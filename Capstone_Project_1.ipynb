{
  "nbformat": 4,
  "nbformat_minor": 0,
  "metadata": {
    "colab": {
      "provenance": [],
      "include_colab_link": true
    },
    "kernelspec": {
      "name": "python3",
      "display_name": "Python 3"
    },
    "language_info": {
      "name": "python"
    }
  },
  "cells": [
    {
      "cell_type": "markdown",
      "metadata": {
        "id": "view-in-github",
        "colab_type": "text"
      },
      "source": [
        "<a href=\"https://colab.research.google.com/github/ANANTH3011/Projects/blob/main/Capstone_Project_1.ipynb\" target=\"_parent\"><img src=\"https://colab.research.google.com/assets/colab-badge.svg\" alt=\"Open In Colab\"/></a>"
      ]
    },
    {
      "cell_type": "markdown",
      "source": [
        "# **Credit Card Approval:**"
      ],
      "metadata": {
        "id": "BWaddRFg6eTr"
      }
    },
    {
      "cell_type": "markdown",
      "source": [
        "#**A.\tINTRODUCTION:**\n",
        "\n",
        "The proposed capstone project revolves around the crucial domain of credit card approval, an area where data science and machine learning have become integral tools for banks in assessing the creditworthiness of applicants. In this introduction, we'll outline the significance of this project in today's world, highlight its potential impact on the banking sector, and shed light on the knowledge gap it aims to address for Indian banks."
      ],
      "metadata": {
        "id": "oj6uZIEKXL-M"
      }
    },
    {
      "cell_type": "markdown",
      "source": [
        "#**B.\tImportance in Today’s World:**\n",
        "\n",
        "In today's world, where financial institutions are operating in an increasingly competitive and data-driven environment, the ability to predict and identify good clients is of paramount importance for banks. Traditional methods of credit assessment are often time-consuming, error-prone, and may not capture the complete financial profile of an applicant. Therefore, leveraging data science and machine learning to predict creditworthiness is a crucial step towards efficient and effective credit card approval processes.\n",
        "\n",
        "By developing an automated credit card approval system, we aim to:\n",
        "\n",
        "1. Streamline the credit card application process, reducing manual effort and improving efficiency.\n",
        "\n",
        "2. Enhance the accuracy of creditworthiness assessments, leading to better risk management for the bank.\n",
        "\n",
        "3. Reduce the likelihood of default or delinquency, resulting in improved financial stability for the bank.\n",
        "\n",
        "4. Provide a faster and more convenient experience for customers, thereby attracting and retaining more clients."
      ],
      "metadata": {
        "id": "yCrH_-XQXg9V"
      }
    },
    {
      "cell_type": "markdown",
      "source": [
        "#**C.\tImpact on the Banking Sector:**\n",
        "\n",
        "The implementation of an advanced credit card approval system using data science and machine learning will have several significant impacts on the banking sector:\n",
        "\n",
        "1. **Improved Risk Management:** The system will enable banks to make more accurate credit decisions, reducing the risk of granting credit to high-risk applicants. This, in turn, can lead to lower default rates and financial losses.\n",
        "\n",
        "2. **Efficiency and Cost Reduction:** Automated credit assessment will reduce the time and resources required for manual application processing. This efficiency gain can translate into cost savings for the bank.\n",
        "\n",
        "3. **Enhanced Customer Experience:** Applicants will benefit from a quicker and more transparent application process. This can improve customer satisfaction and loyalty.\n",
        "\n",
        "4. **Competitive Advantage:** Banks that adopt advanced credit assessment methods can gain a competitive edge by attracting more creditworthy clients and potentially offering more competitive credit card products.\n",
        "\n",
        "5. **Data Utilization:** Banks can harness the power of data by integrating various data sources, both internal and external, to make informed lending decisions."
      ],
      "metadata": {
        "id": "pxTxfOIjX6rl"
      }
    },
    {
      "cell_type": "markdown",
      "source": [
        "#**D.\tKnowledge Gap and Future Relevance for Indian Banks:**\n",
        "While traditional credit scoring methods are prevalent in India, there is still room for improvement and innovation in the credit assessment process. The proposed method can address several gaps in knowledge and provide significant benefits for banks in India:\n",
        "\n",
        "1. **Inclusion of Non-Traditional Data:** The proposed method can leverage non-traditional data sources, such as mobile phone usage patterns and email interactions, to assess an applicant's creditworthiness. This can be especially valuable for individuals with limited credit history.\n",
        "\n",
        "2. **Real-Time Decision-Making:** By deploying machine learning models, banks can make real-time credit decisions, improving the speed and convenience of credit card approvals.\n",
        "\n",
        "3. **Customization:** The system can be customized to suit the specific needs and risk tolerance of individual banks, allowing for flexibility in credit policy implementation.\n",
        "\n",
        "4. **Adaptability:** Machine learning models can adapt to changing economic conditions and borrower behaviors, ensuring that credit decisions remain relevant and accurate over time.\n",
        "\n",
        "5. **Reduced Bias:** Machine learning models can help reduce bias in credit decisions by focusing on objective data rather than subjective judgments."
      ],
      "metadata": {
        "id": "X6htkZVCYNmN"
      }
    },
    {
      "cell_type": "markdown",
      "source": [
        "#E.\t**Initial Hypotheses:**\n",
        "\n",
        "1.\tApplicants with a higher annual income are more likely to have their credit card applications approved compared to those with lower incomes.\n",
        "2.\tBeing a car owner positively correlates with credit card approval rates, as it may indicate financial stability.\n",
        "3.\tApplicants who own property are more likely to have their credit card applications approved, as property ownership can be considered a valuable asset.\n",
        "4.\tApplicants with a higher level of education are more likely to have their credit card applications approved, as education may correlate with higher income and financial responsibility.\n",
        "5.\tMarried applicants have a higher likelihood of credit card approval compared to single or divorced applicants, as marital status may be associated with financial stability.\n",
        "6.\tApplicants with more family members may have a lower chance of credit card approval due to increased financial responsibilities.\n",
        "7.\tThe number of children may affect credit card approval rates, with applicants having fewer children being more likely to be approved.\n",
        "8.\tApplicants with a longer employment history are more likely to have their credit card applications approved, as stability in employment may indicate lower risk.\n",
        "9.\tGender may influence credit card approval rates, with one gender being more likely to have their applications approved.\n",
        "10.\tThe type of income may impact credit card approval, with certain income types having a higher likelihood of approval."
      ],
      "metadata": {
        "id": "PryE1QiaYVxt"
      }
    },
    {
      "cell_type": "markdown",
      "source": [
        "#F. **Data Analysis Approach:**\n",
        "\n",
        "To prove or disprove the hypotheses, the following approach will be taken:\n",
        "\n",
        "1. **Exploratory Data Analysis (EDA):**\n",
        "\n",
        "* Conduct EDA to understand relationships between features and credit card approval.\n",
        "* **Insights:** Identify patterns and dependencies within the data.\n",
        "\n",
        "2. **Data Preprocessing:**\n",
        "\n",
        "* **Handle Missing Values:** Implement imputation techniques for missing data.\n",
        "* **Encode Categorical Variables:** Utilize one-hot encoding for categorical features.\n",
        "* **Feature Scaling:** Scale numerical features as needed.\n",
        "* **Feature Creation:** Create relevant features to enhance prediction accuracy.\n",
        "\n",
        "3. **Model Selection:**\n",
        "\n",
        "* **Evaluate Multiple Models:** We will train and test using Random Forest Classifier, XGB Classifier, Logistic Regression, Decision Tree Classifier, and KNeighbors Classifier.\n",
        "\n",
        "4. **Model Evaluation:**\n",
        "\n",
        "**Model Evaluation Metrics:** We will assess the models using the following evaluation metrics:\n",
        "\n",
        "* **Accuracy:** Measures the overall correctness of the model's predictions.\n",
        "* **Precision:** Calculates the proportion of true positive predictions among all positive predictions, indicating how well the model avoids false positives.\n",
        "* **Recall:** Calculates the proportion of true positive predictions among all actual positives, indicating how well the model captures positive cases.\n",
        "* **F1 Score:** Combines precision and recall to provide a balanced measure of model performance.\n",
        "* **Comparison with Visualization:** We have plotted these metrics to visually compare the performance of the different models. This visualization can help you easily identify which model is performing better in terms of accuracy, precision, recall, and F1 Score.\n",
        "\n",
        "5. **Model Comparison:**\n",
        "\n",
        "* **Final Model Selection:** Based on our evaluation metrics and visual comparisons, select the best-performing model among the ones you have evaluated. Choose the model that aligns with your specific goals and requirements for predicting credit card approval."
      ],
      "metadata": {
        "id": "4E72SD6FZU_D"
      }
    },
    {
      "cell_type": "markdown",
      "source": [
        "#G.\t **Machine Learning Approach:**\n",
        "##1.\t**Machine Learning Method:**\n",
        "For machine learning-based predictions for credit card approval, the project will employ the following classifiers:\n",
        "\n",
        "1.\t**Random Forest Classifier:** A powerful ensemble model known for its ability to handle complex relationships in data by aggregating the predictions of multiple decision trees.\n",
        "\n",
        "2.\t**XGB Classifier:** A gradient-boosting model that optimizes decision trees and is often used for its high predictive accuracy.\n",
        "\n",
        "3.\t**Logistic Regression:** A simple yet interpretable model that can provide insights into feature importance and is commonly used in binary classification tasks.\n",
        "\n",
        "4.\t**KNeighbors Classifier:** A pattern recognition model that can be valuable for identifying clusters of creditworthy applicants based on their similarity to neighbors in feature space.\n",
        "\n",
        "5.\t**Decision Tree Classifier:** A model that recursively partitions the data into subsets based on feature values, making it interpretable and useful for feature importance analysis.\n",
        "\n",
        "##2.\t**Justification for Model Selection:**\n",
        "\n",
        "1. **Random Forest Classifier and XGB Classifier:** These ensemble models are expected to capture complex relationships in the data, making them suitable for creditworthiness prediction.\n",
        "2. **Logistic Regression:** As an interpretable model, it can provide insights into feature importance and serve as a benchmark for other models.\n",
        "3. **KNeighbors Classifier:** Useful for identifying patterns and clusters in data, which may reveal distinct groups of creditworthy applicants.\n",
        "4. **Decision Tree Classifier:** A simple, interpretable model that can help with feature importance analysis and understanding the decision-making process.\n",
        "\n",
        "\n",
        "#3.\t**Comparison of Models:**\n",
        "\n",
        "1. Model performance will be compared using metrics such as accuracy, precision, recall, and F1 Score for all five models.\n",
        "2. The selected model will be justified based on its ability to balance precision and recall, considering the consequences of false positives and false negatives in credit card approval decisions."
      ],
      "metadata": {
        "id": "l97fA5ZJWotQ"
      }
    },
    {
      "cell_type": "markdown",
      "source": [
        "# **Data Collection :**"
      ],
      "metadata": {
        "id": "0FsL1QCP_stk"
      }
    },
    {
      "cell_type": "code",
      "execution_count": null,
      "metadata": {
        "id": "282y9_7c3iC5",
        "colab": {
          "base_uri": "https://localhost:8080/",
          "height": 652
        },
        "outputId": "171ec429-fe0a-4ead-e899-eb3648623d45"
      },
      "outputs": [
        {
          "output_type": "execute_result",
          "data": {
            "text/plain": [
              "       Ind_ID GENDER Car_Owner Propert_Owner  CHILDREN  Annual_income  \\\n",
              "0     5008827      M         Y             Y         0       180000.0   \n",
              "1     5009744      F         Y             N         0       315000.0   \n",
              "2     5009746      F         Y             N         0       315000.0   \n",
              "3     5009749      F         Y             N         0            NaN   \n",
              "4     5009752      F         Y             N         0       315000.0   \n",
              "...       ...    ...       ...           ...       ...            ...   \n",
              "1543  5028645      F         N             Y         0            NaN   \n",
              "1544  5023655      F         N             N         0       225000.0   \n",
              "1545  5115992      M         Y             Y         2       180000.0   \n",
              "1546  5118219      M         Y             N         0       270000.0   \n",
              "1547  5053790      F         Y             Y         0       225000.0   \n",
              "\n",
              "               Type_Income                      EDUCATION  \\\n",
              "0                Pensioner               Higher education   \n",
              "1     Commercial associate               Higher education   \n",
              "2     Commercial associate               Higher education   \n",
              "3     Commercial associate               Higher education   \n",
              "4     Commercial associate               Higher education   \n",
              "...                    ...                            ...   \n",
              "1543  Commercial associate               Higher education   \n",
              "1544  Commercial associate              Incomplete higher   \n",
              "1545               Working               Higher education   \n",
              "1546               Working  Secondary / secondary special   \n",
              "1547               Working               Higher education   \n",
              "\n",
              "            Marital_status       Housing_type  Birthday_count  Employed_days  \\\n",
              "0                  Married  House / apartment        -18772.0         365243   \n",
              "1                  Married  House / apartment        -13557.0           -586   \n",
              "2                  Married  House / apartment             NaN           -586   \n",
              "3                  Married  House / apartment        -13557.0           -586   \n",
              "4                  Married  House / apartment        -13557.0           -586   \n",
              "...                    ...                ...             ...            ...   \n",
              "1543               Married  House / apartment        -11957.0          -2182   \n",
              "1544  Single / not married  House / apartment        -10229.0          -1209   \n",
              "1545               Married  House / apartment        -13174.0          -2477   \n",
              "1546        Civil marriage  House / apartment        -15292.0           -645   \n",
              "1547               Married  House / apartment        -16601.0          -2859   \n",
              "\n",
              "      Mobile_phone  Work_Phone  Phone  EMAIL_ID Type_Occupation  \\\n",
              "0                1           0      0         0             NaN   \n",
              "1                1           1      1         0             NaN   \n",
              "2                1           1      1         0             NaN   \n",
              "3                1           1      1         0             NaN   \n",
              "4                1           1      1         0             NaN   \n",
              "...            ...         ...    ...       ...             ...   \n",
              "1543             1           0      0         0        Managers   \n",
              "1544             1           0      0         0     Accountants   \n",
              "1545             1           0      0         0        Managers   \n",
              "1546             1           1      1         0         Drivers   \n",
              "1547             1           0      0         0             NaN   \n",
              "\n",
              "      Family_Members  label  \n",
              "0                  2      1  \n",
              "1                  2      1  \n",
              "2                  2      1  \n",
              "3                  2      1  \n",
              "4                  2      1  \n",
              "...              ...    ...  \n",
              "1543               2      0  \n",
              "1544               1      0  \n",
              "1545               4      0  \n",
              "1546               2      0  \n",
              "1547               2      0  \n",
              "\n",
              "[1548 rows x 19 columns]"
            ],
            "text/html": [
              "\n",
              "  <div id=\"df-62bf126a-ed0b-475d-8f3f-0dbf1cbc7c19\" class=\"colab-df-container\">\n",
              "    <div>\n",
              "<style scoped>\n",
              "    .dataframe tbody tr th:only-of-type {\n",
              "        vertical-align: middle;\n",
              "    }\n",
              "\n",
              "    .dataframe tbody tr th {\n",
              "        vertical-align: top;\n",
              "    }\n",
              "\n",
              "    .dataframe thead th {\n",
              "        text-align: right;\n",
              "    }\n",
              "</style>\n",
              "<table border=\"1\" class=\"dataframe\">\n",
              "  <thead>\n",
              "    <tr style=\"text-align: right;\">\n",
              "      <th></th>\n",
              "      <th>Ind_ID</th>\n",
              "      <th>GENDER</th>\n",
              "      <th>Car_Owner</th>\n",
              "      <th>Propert_Owner</th>\n",
              "      <th>CHILDREN</th>\n",
              "      <th>Annual_income</th>\n",
              "      <th>Type_Income</th>\n",
              "      <th>EDUCATION</th>\n",
              "      <th>Marital_status</th>\n",
              "      <th>Housing_type</th>\n",
              "      <th>Birthday_count</th>\n",
              "      <th>Employed_days</th>\n",
              "      <th>Mobile_phone</th>\n",
              "      <th>Work_Phone</th>\n",
              "      <th>Phone</th>\n",
              "      <th>EMAIL_ID</th>\n",
              "      <th>Type_Occupation</th>\n",
              "      <th>Family_Members</th>\n",
              "      <th>label</th>\n",
              "    </tr>\n",
              "  </thead>\n",
              "  <tbody>\n",
              "    <tr>\n",
              "      <th>0</th>\n",
              "      <td>5008827</td>\n",
              "      <td>M</td>\n",
              "      <td>Y</td>\n",
              "      <td>Y</td>\n",
              "      <td>0</td>\n",
              "      <td>180000.0</td>\n",
              "      <td>Pensioner</td>\n",
              "      <td>Higher education</td>\n",
              "      <td>Married</td>\n",
              "      <td>House / apartment</td>\n",
              "      <td>-18772.0</td>\n",
              "      <td>365243</td>\n",
              "      <td>1</td>\n",
              "      <td>0</td>\n",
              "      <td>0</td>\n",
              "      <td>0</td>\n",
              "      <td>NaN</td>\n",
              "      <td>2</td>\n",
              "      <td>1</td>\n",
              "    </tr>\n",
              "    <tr>\n",
              "      <th>1</th>\n",
              "      <td>5009744</td>\n",
              "      <td>F</td>\n",
              "      <td>Y</td>\n",
              "      <td>N</td>\n",
              "      <td>0</td>\n",
              "      <td>315000.0</td>\n",
              "      <td>Commercial associate</td>\n",
              "      <td>Higher education</td>\n",
              "      <td>Married</td>\n",
              "      <td>House / apartment</td>\n",
              "      <td>-13557.0</td>\n",
              "      <td>-586</td>\n",
              "      <td>1</td>\n",
              "      <td>1</td>\n",
              "      <td>1</td>\n",
              "      <td>0</td>\n",
              "      <td>NaN</td>\n",
              "      <td>2</td>\n",
              "      <td>1</td>\n",
              "    </tr>\n",
              "    <tr>\n",
              "      <th>2</th>\n",
              "      <td>5009746</td>\n",
              "      <td>F</td>\n",
              "      <td>Y</td>\n",
              "      <td>N</td>\n",
              "      <td>0</td>\n",
              "      <td>315000.0</td>\n",
              "      <td>Commercial associate</td>\n",
              "      <td>Higher education</td>\n",
              "      <td>Married</td>\n",
              "      <td>House / apartment</td>\n",
              "      <td>NaN</td>\n",
              "      <td>-586</td>\n",
              "      <td>1</td>\n",
              "      <td>1</td>\n",
              "      <td>1</td>\n",
              "      <td>0</td>\n",
              "      <td>NaN</td>\n",
              "      <td>2</td>\n",
              "      <td>1</td>\n",
              "    </tr>\n",
              "    <tr>\n",
              "      <th>3</th>\n",
              "      <td>5009749</td>\n",
              "      <td>F</td>\n",
              "      <td>Y</td>\n",
              "      <td>N</td>\n",
              "      <td>0</td>\n",
              "      <td>NaN</td>\n",
              "      <td>Commercial associate</td>\n",
              "      <td>Higher education</td>\n",
              "      <td>Married</td>\n",
              "      <td>House / apartment</td>\n",
              "      <td>-13557.0</td>\n",
              "      <td>-586</td>\n",
              "      <td>1</td>\n",
              "      <td>1</td>\n",
              "      <td>1</td>\n",
              "      <td>0</td>\n",
              "      <td>NaN</td>\n",
              "      <td>2</td>\n",
              "      <td>1</td>\n",
              "    </tr>\n",
              "    <tr>\n",
              "      <th>4</th>\n",
              "      <td>5009752</td>\n",
              "      <td>F</td>\n",
              "      <td>Y</td>\n",
              "      <td>N</td>\n",
              "      <td>0</td>\n",
              "      <td>315000.0</td>\n",
              "      <td>Commercial associate</td>\n",
              "      <td>Higher education</td>\n",
              "      <td>Married</td>\n",
              "      <td>House / apartment</td>\n",
              "      <td>-13557.0</td>\n",
              "      <td>-586</td>\n",
              "      <td>1</td>\n",
              "      <td>1</td>\n",
              "      <td>1</td>\n",
              "      <td>0</td>\n",
              "      <td>NaN</td>\n",
              "      <td>2</td>\n",
              "      <td>1</td>\n",
              "    </tr>\n",
              "    <tr>\n",
              "      <th>...</th>\n",
              "      <td>...</td>\n",
              "      <td>...</td>\n",
              "      <td>...</td>\n",
              "      <td>...</td>\n",
              "      <td>...</td>\n",
              "      <td>...</td>\n",
              "      <td>...</td>\n",
              "      <td>...</td>\n",
              "      <td>...</td>\n",
              "      <td>...</td>\n",
              "      <td>...</td>\n",
              "      <td>...</td>\n",
              "      <td>...</td>\n",
              "      <td>...</td>\n",
              "      <td>...</td>\n",
              "      <td>...</td>\n",
              "      <td>...</td>\n",
              "      <td>...</td>\n",
              "      <td>...</td>\n",
              "    </tr>\n",
              "    <tr>\n",
              "      <th>1543</th>\n",
              "      <td>5028645</td>\n",
              "      <td>F</td>\n",
              "      <td>N</td>\n",
              "      <td>Y</td>\n",
              "      <td>0</td>\n",
              "      <td>NaN</td>\n",
              "      <td>Commercial associate</td>\n",
              "      <td>Higher education</td>\n",
              "      <td>Married</td>\n",
              "      <td>House / apartment</td>\n",
              "      <td>-11957.0</td>\n",
              "      <td>-2182</td>\n",
              "      <td>1</td>\n",
              "      <td>0</td>\n",
              "      <td>0</td>\n",
              "      <td>0</td>\n",
              "      <td>Managers</td>\n",
              "      <td>2</td>\n",
              "      <td>0</td>\n",
              "    </tr>\n",
              "    <tr>\n",
              "      <th>1544</th>\n",
              "      <td>5023655</td>\n",
              "      <td>F</td>\n",
              "      <td>N</td>\n",
              "      <td>N</td>\n",
              "      <td>0</td>\n",
              "      <td>225000.0</td>\n",
              "      <td>Commercial associate</td>\n",
              "      <td>Incomplete higher</td>\n",
              "      <td>Single / not married</td>\n",
              "      <td>House / apartment</td>\n",
              "      <td>-10229.0</td>\n",
              "      <td>-1209</td>\n",
              "      <td>1</td>\n",
              "      <td>0</td>\n",
              "      <td>0</td>\n",
              "      <td>0</td>\n",
              "      <td>Accountants</td>\n",
              "      <td>1</td>\n",
              "      <td>0</td>\n",
              "    </tr>\n",
              "    <tr>\n",
              "      <th>1545</th>\n",
              "      <td>5115992</td>\n",
              "      <td>M</td>\n",
              "      <td>Y</td>\n",
              "      <td>Y</td>\n",
              "      <td>2</td>\n",
              "      <td>180000.0</td>\n",
              "      <td>Working</td>\n",
              "      <td>Higher education</td>\n",
              "      <td>Married</td>\n",
              "      <td>House / apartment</td>\n",
              "      <td>-13174.0</td>\n",
              "      <td>-2477</td>\n",
              "      <td>1</td>\n",
              "      <td>0</td>\n",
              "      <td>0</td>\n",
              "      <td>0</td>\n",
              "      <td>Managers</td>\n",
              "      <td>4</td>\n",
              "      <td>0</td>\n",
              "    </tr>\n",
              "    <tr>\n",
              "      <th>1546</th>\n",
              "      <td>5118219</td>\n",
              "      <td>M</td>\n",
              "      <td>Y</td>\n",
              "      <td>N</td>\n",
              "      <td>0</td>\n",
              "      <td>270000.0</td>\n",
              "      <td>Working</td>\n",
              "      <td>Secondary / secondary special</td>\n",
              "      <td>Civil marriage</td>\n",
              "      <td>House / apartment</td>\n",
              "      <td>-15292.0</td>\n",
              "      <td>-645</td>\n",
              "      <td>1</td>\n",
              "      <td>1</td>\n",
              "      <td>1</td>\n",
              "      <td>0</td>\n",
              "      <td>Drivers</td>\n",
              "      <td>2</td>\n",
              "      <td>0</td>\n",
              "    </tr>\n",
              "    <tr>\n",
              "      <th>1547</th>\n",
              "      <td>5053790</td>\n",
              "      <td>F</td>\n",
              "      <td>Y</td>\n",
              "      <td>Y</td>\n",
              "      <td>0</td>\n",
              "      <td>225000.0</td>\n",
              "      <td>Working</td>\n",
              "      <td>Higher education</td>\n",
              "      <td>Married</td>\n",
              "      <td>House / apartment</td>\n",
              "      <td>-16601.0</td>\n",
              "      <td>-2859</td>\n",
              "      <td>1</td>\n",
              "      <td>0</td>\n",
              "      <td>0</td>\n",
              "      <td>0</td>\n",
              "      <td>NaN</td>\n",
              "      <td>2</td>\n",
              "      <td>0</td>\n",
              "    </tr>\n",
              "  </tbody>\n",
              "</table>\n",
              "<p>1548 rows × 19 columns</p>\n",
              "</div>\n",
              "    <div class=\"colab-df-buttons\">\n",
              "\n",
              "  <div class=\"colab-df-container\">\n",
              "    <button class=\"colab-df-convert\" onclick=\"convertToInteractive('df-62bf126a-ed0b-475d-8f3f-0dbf1cbc7c19')\"\n",
              "            title=\"Convert this dataframe to an interactive table.\"\n",
              "            style=\"display:none;\">\n",
              "\n",
              "  <svg xmlns=\"http://www.w3.org/2000/svg\" height=\"24px\" viewBox=\"0 -960 960 960\">\n",
              "    <path d=\"M120-120v-720h720v720H120Zm60-500h600v-160H180v160Zm220 220h160v-160H400v160Zm0 220h160v-160H400v160ZM180-400h160v-160H180v160Zm440 0h160v-160H620v160ZM180-180h160v-160H180v160Zm440 0h160v-160H620v160Z\"/>\n",
              "  </svg>\n",
              "    </button>\n",
              "\n",
              "  <style>\n",
              "    .colab-df-container {\n",
              "      display:flex;\n",
              "      gap: 12px;\n",
              "    }\n",
              "\n",
              "    .colab-df-convert {\n",
              "      background-color: #E8F0FE;\n",
              "      border: none;\n",
              "      border-radius: 50%;\n",
              "      cursor: pointer;\n",
              "      display: none;\n",
              "      fill: #1967D2;\n",
              "      height: 32px;\n",
              "      padding: 0 0 0 0;\n",
              "      width: 32px;\n",
              "    }\n",
              "\n",
              "    .colab-df-convert:hover {\n",
              "      background-color: #E2EBFA;\n",
              "      box-shadow: 0px 1px 2px rgba(60, 64, 67, 0.3), 0px 1px 3px 1px rgba(60, 64, 67, 0.15);\n",
              "      fill: #174EA6;\n",
              "    }\n",
              "\n",
              "    .colab-df-buttons div {\n",
              "      margin-bottom: 4px;\n",
              "    }\n",
              "\n",
              "    [theme=dark] .colab-df-convert {\n",
              "      background-color: #3B4455;\n",
              "      fill: #D2E3FC;\n",
              "    }\n",
              "\n",
              "    [theme=dark] .colab-df-convert:hover {\n",
              "      background-color: #434B5C;\n",
              "      box-shadow: 0px 1px 3px 1px rgba(0, 0, 0, 0.15);\n",
              "      filter: drop-shadow(0px 1px 2px rgba(0, 0, 0, 0.3));\n",
              "      fill: #FFFFFF;\n",
              "    }\n",
              "  </style>\n",
              "\n",
              "    <script>\n",
              "      const buttonEl =\n",
              "        document.querySelector('#df-62bf126a-ed0b-475d-8f3f-0dbf1cbc7c19 button.colab-df-convert');\n",
              "      buttonEl.style.display =\n",
              "        google.colab.kernel.accessAllowed ? 'block' : 'none';\n",
              "\n",
              "      async function convertToInteractive(key) {\n",
              "        const element = document.querySelector('#df-62bf126a-ed0b-475d-8f3f-0dbf1cbc7c19');\n",
              "        const dataTable =\n",
              "          await google.colab.kernel.invokeFunction('convertToInteractive',\n",
              "                                                    [key], {});\n",
              "        if (!dataTable) return;\n",
              "\n",
              "        const docLinkHtml = 'Like what you see? Visit the ' +\n",
              "          '<a target=\"_blank\" href=https://colab.research.google.com/notebooks/data_table.ipynb>data table notebook</a>'\n",
              "          + ' to learn more about interactive tables.';\n",
              "        element.innerHTML = '';\n",
              "        dataTable['output_type'] = 'display_data';\n",
              "        await google.colab.output.renderOutput(dataTable, element);\n",
              "        const docLink = document.createElement('div');\n",
              "        docLink.innerHTML = docLinkHtml;\n",
              "        element.appendChild(docLink);\n",
              "      }\n",
              "    </script>\n",
              "  </div>\n",
              "\n",
              "\n",
              "<div id=\"df-3ae883da-49a7-4abc-9450-7f72043a87ae\">\n",
              "  <button class=\"colab-df-quickchart\" onclick=\"quickchart('df-3ae883da-49a7-4abc-9450-7f72043a87ae')\"\n",
              "            title=\"Suggest charts.\"\n",
              "            style=\"display:none;\">\n",
              "\n",
              "<svg xmlns=\"http://www.w3.org/2000/svg\" height=\"24px\"viewBox=\"0 0 24 24\"\n",
              "     width=\"24px\">\n",
              "    <g>\n",
              "        <path d=\"M19 3H5c-1.1 0-2 .9-2 2v14c0 1.1.9 2 2 2h14c1.1 0 2-.9 2-2V5c0-1.1-.9-2-2-2zM9 17H7v-7h2v7zm4 0h-2V7h2v10zm4 0h-2v-4h2v4z\"/>\n",
              "    </g>\n",
              "</svg>\n",
              "  </button>\n",
              "\n",
              "<style>\n",
              "  .colab-df-quickchart {\n",
              "      --bg-color: #E8F0FE;\n",
              "      --fill-color: #1967D2;\n",
              "      --hover-bg-color: #E2EBFA;\n",
              "      --hover-fill-color: #174EA6;\n",
              "      --disabled-fill-color: #AAA;\n",
              "      --disabled-bg-color: #DDD;\n",
              "  }\n",
              "\n",
              "  [theme=dark] .colab-df-quickchart {\n",
              "      --bg-color: #3B4455;\n",
              "      --fill-color: #D2E3FC;\n",
              "      --hover-bg-color: #434B5C;\n",
              "      --hover-fill-color: #FFFFFF;\n",
              "      --disabled-bg-color: #3B4455;\n",
              "      --disabled-fill-color: #666;\n",
              "  }\n",
              "\n",
              "  .colab-df-quickchart {\n",
              "    background-color: var(--bg-color);\n",
              "    border: none;\n",
              "    border-radius: 50%;\n",
              "    cursor: pointer;\n",
              "    display: none;\n",
              "    fill: var(--fill-color);\n",
              "    height: 32px;\n",
              "    padding: 0;\n",
              "    width: 32px;\n",
              "  }\n",
              "\n",
              "  .colab-df-quickchart:hover {\n",
              "    background-color: var(--hover-bg-color);\n",
              "    box-shadow: 0 1px 2px rgba(60, 64, 67, 0.3), 0 1px 3px 1px rgba(60, 64, 67, 0.15);\n",
              "    fill: var(--button-hover-fill-color);\n",
              "  }\n",
              "\n",
              "  .colab-df-quickchart-complete:disabled,\n",
              "  .colab-df-quickchart-complete:disabled:hover {\n",
              "    background-color: var(--disabled-bg-color);\n",
              "    fill: var(--disabled-fill-color);\n",
              "    box-shadow: none;\n",
              "  }\n",
              "\n",
              "  .colab-df-spinner {\n",
              "    border: 2px solid var(--fill-color);\n",
              "    border-color: transparent;\n",
              "    border-bottom-color: var(--fill-color);\n",
              "    animation:\n",
              "      spin 1s steps(1) infinite;\n",
              "  }\n",
              "\n",
              "  @keyframes spin {\n",
              "    0% {\n",
              "      border-color: transparent;\n",
              "      border-bottom-color: var(--fill-color);\n",
              "      border-left-color: var(--fill-color);\n",
              "    }\n",
              "    20% {\n",
              "      border-color: transparent;\n",
              "      border-left-color: var(--fill-color);\n",
              "      border-top-color: var(--fill-color);\n",
              "    }\n",
              "    30% {\n",
              "      border-color: transparent;\n",
              "      border-left-color: var(--fill-color);\n",
              "      border-top-color: var(--fill-color);\n",
              "      border-right-color: var(--fill-color);\n",
              "    }\n",
              "    40% {\n",
              "      border-color: transparent;\n",
              "      border-right-color: var(--fill-color);\n",
              "      border-top-color: var(--fill-color);\n",
              "    }\n",
              "    60% {\n",
              "      border-color: transparent;\n",
              "      border-right-color: var(--fill-color);\n",
              "    }\n",
              "    80% {\n",
              "      border-color: transparent;\n",
              "      border-right-color: var(--fill-color);\n",
              "      border-bottom-color: var(--fill-color);\n",
              "    }\n",
              "    90% {\n",
              "      border-color: transparent;\n",
              "      border-bottom-color: var(--fill-color);\n",
              "    }\n",
              "  }\n",
              "</style>\n",
              "\n",
              "  <script>\n",
              "    async function quickchart(key) {\n",
              "      const quickchartButtonEl =\n",
              "        document.querySelector('#' + key + ' button');\n",
              "      quickchartButtonEl.disabled = true;  // To prevent multiple clicks.\n",
              "      quickchartButtonEl.classList.add('colab-df-spinner');\n",
              "      try {\n",
              "        const charts = await google.colab.kernel.invokeFunction(\n",
              "            'suggestCharts', [key], {});\n",
              "      } catch (error) {\n",
              "        console.error('Error during call to suggestCharts:', error);\n",
              "      }\n",
              "      quickchartButtonEl.classList.remove('colab-df-spinner');\n",
              "      quickchartButtonEl.classList.add('colab-df-quickchart-complete');\n",
              "    }\n",
              "    (() => {\n",
              "      let quickchartButtonEl =\n",
              "        document.querySelector('#df-3ae883da-49a7-4abc-9450-7f72043a87ae button');\n",
              "      quickchartButtonEl.style.display =\n",
              "        google.colab.kernel.accessAllowed ? 'block' : 'none';\n",
              "    })();\n",
              "  </script>\n",
              "</div>\n",
              "    </div>\n",
              "  </div>\n"
            ]
          },
          "metadata": {},
          "execution_count": 202
        }
      ],
      "source": [
        "# Import the Pandas library for data manipulation.\n",
        "import pandas as pd\n",
        "\n",
        "# Load the 'Credit_card.csv' and 'Credit_card_label.csv' datasets into Pandas DataFrames.\n",
        "Credit_card = pd.read_csv('Credit_card.csv')\n",
        "Credit_card_label = pd.read_csv('Credit_card_label.csv')\n",
        "\n",
        "# Merge the two datasets based on a common column 'Ind_ID' using an inner join.\n",
        "# This will create a new DataFrame named 'Credit_Card_approved' containing merged data.\n",
        "Credit_Card_approved = Credit_card.merge(Credit_card_label, on='Ind_ID', how='inner')\n",
        "\n",
        "# Create a copy of the resulting merged DataFrame for further operations.\n",
        "Credit_Card_approved = Credit_Card_approved.copy()\n",
        "\n",
        "# Display the resulting merged DataFrame.\n",
        "Credit_Card_approved"
      ]
    },
    {
      "cell_type": "markdown",
      "source": [
        "### **Merged DataFrame : Credit_Card_approved**\n",
        "\n",
        "1. **Ind_ID:** Client ID\n",
        "\n",
        "2. **Gender:** Gender information\n",
        "\n",
        "3. **Car_owner:** Having car or not\n",
        "\n",
        "4. **Propert_owner:** Having property or not\n",
        "\n",
        "5. **Children:** Count of children\n",
        "\n",
        "6. **Annual_income:** Annual income\n",
        "\n",
        "7. **Type_Income:** Income type\n",
        "\n",
        "8. **Education:** Education level\n",
        "\n",
        "9. **Marital_status:** Marital_status\n",
        "\n",
        "10. **Housing_type:** Living style\n",
        "\n",
        "11. **Birthday_count:** Use backward count from current day (0), -1 means yesterday.\n",
        "\n",
        "12. **Employed_days:** Start date of employment. Use backward count from current day (0). Positive value means, individual is currently unemployed.\n",
        "\n",
        "13. **Mobile_phone:** Any mobile phone\n",
        "\n",
        "14. **Work_phone:** Any work phone\n",
        "\n",
        "15. **Phone:** Any phone number\n",
        "\n",
        "16. **EMAIL_ID:** Any email ID\n",
        "\n",
        "17. **Type_Occupation:** Occupation\n",
        "\n",
        "18. **Family_Members:** Family size\n",
        "\n",
        "19. **Label:** 0 is application approved and 1 is application rejected."
      ],
      "metadata": {
        "id": "VFktfrQO6Udz"
      }
    },
    {
      "cell_type": "markdown",
      "source": [
        "# **Exploratory Data Analysis (EDA) :**\n"
      ],
      "metadata": {
        "id": "FpFyLRMnrC_K"
      }
    },
    {
      "cell_type": "markdown",
      "source": [
        "### **Visualization of Annual Income by Gender:**"
      ],
      "metadata": {
        "id": "BBvl3zVKfAFq"
      }
    },
    {
      "cell_type": "code",
      "source": [
        "# Import the Seaborn library for data visualization.\n",
        "import seaborn as sns\n",
        "\n",
        "# Import the Matplotlib library for additional plotting functionality.\n",
        "import matplotlib.pyplot as plt\n",
        "\n",
        "# Create a bar plot to visualize the relationship between 'GENDER' and 'Annual_income'\n",
        "fig, ax = plt.subplots()\n",
        "sns.barplot(x='GENDER', y='Annual_income', data=Credit_Card_approved)\n",
        "\n",
        "# Set plot title\n",
        "plt.title(\"Annual Income by Gender\")\n",
        "\n",
        "# Show the plot\n",
        "plt.show()"
      ],
      "metadata": {
        "colab": {
          "base_uri": "https://localhost:8080/",
          "height": 480
        },
        "id": "K7KKr4djv-Tx",
        "outputId": "48a36819-7d36-4279-c69d-b044b24ccc6f"
      },
      "execution_count": null,
      "outputs": [
        {
          "output_type": "display_data",
          "data": {
            "text/plain": [
              "<Figure size 640x480 with 1 Axes>"
            ],
            "image/png": "[encoded data removed]"
          },
          "metadata": {}
        }
      ]
    },
    {
      "cell_type": "markdown",
      "source": [
        "**Plot Interpretation:**\n",
        "\n",
        "1. The bar plot represents the distribution of annual income among different genders. The x-axis shows gender categories (e.g., Male and Female), while the y-axis displays annual income. The plot helps us observe any variations in annual income based on gender.\n",
        "2. The bar plot illustrates a notable disparity in annual income between genders. Specifically, it reveals that males have a higher annual income compared to females."
      ],
      "metadata": {
        "id": "K8agRNE8ewqD"
      }
    },
    {
      "cell_type": "markdown",
      "source": [
        "###**Visualizing Annual Income by Car Ownership:**"
      ],
      "metadata": {
        "id": "dB3QNvcIgD3y"
      }
    },
    {
      "cell_type": "code",
      "source": [
        "# Create a bar plot to visualize the relationship between 'Car_Owner' and 'Annual_income'\n",
        "sns.barplot(x='Car_Owner', y='Annual_income', data=Credit_Card_approved)\n",
        "\n",
        "# Set plot title\n",
        "plt.title(\"Annual Income by Car Ownership\")\n",
        "\n",
        "# Show the plot\n",
        "plt.show()"
      ],
      "metadata": {
        "colab": {
          "base_uri": "https://localhost:8080/",
          "height": 480
        },
        "id": "VAjnO8swv-RJ",
        "outputId": "0e70f027-ac54-4226-b088-1e371d2f52c0"
      },
      "execution_count": null,
      "outputs": [
        {
          "output_type": "display_data",
          "data": {
            "text/plain": [
              "<Figure size 640x480 with 1 Axes>"
            ],
            "image/png": "[encoded data removed]"
          },
          "metadata": {}
        }
      ]
    },
    {
      "cell_type": "markdown",
      "source": [
        "**Plot Interpretation:**\n",
        "\n",
        "The bar plot compares the annual income of individuals who own a car (\"Y\") and those who do not (\"N\"). It helps us understand whether car ownership is associated with differences in annual income.\n",
        "\n",
        "1. Car Owners (\"Y\"): The majority of individuals who own a car (\"Y\") have annual incomes exceeding 200,000. This suggests a trend of higher income among car owners.\n",
        "\n",
        "2. Non-Car Owners (\"N\"): On the other hand, individuals who do not own a car (\"N\") typically fall within the annual income range of 150,000 to 200,000. This group exhibits a narrower spread of incomes compared to car owners."
      ],
      "metadata": {
        "id": "t7Q269YpgRxA"
      }
    },
    {
      "cell_type": "markdown",
      "source": [
        "### **Visualizing Annual Income by Property Ownership:**"
      ],
      "metadata": {
        "id": "PDji-Ahgh6wg"
      }
    },
    {
      "cell_type": "code",
      "source": [
        "# Create a bar plot to visualize the relationship between 'Propert_Owner' and 'Annual_income'\n",
        "sns.barplot(x='Propert_Owner', y='Annual_income', data=Credit_Card_approved)\n",
        "\n",
        "# Set plot title\n",
        "plt.title(\"Annual Income by Property Ownership\")\n",
        "\n",
        "# Show the plot\n",
        "plt.show()"
      ],
      "metadata": {
        "colab": {
          "base_uri": "https://localhost:8080/",
          "height": 480
        },
        "id": "6tIVBYJlv-Wl",
        "outputId": "f62f40c0-0d13-4099-af93-88ecbc3f165f"
      },
      "execution_count": null,
      "outputs": [
        {
          "output_type": "display_data",
          "data": {
            "text/plain": [
              "<Figure size 640x480 with 1 Axes>"
            ],
            "image/png": "[encoded data removed]"
          },
          "metadata": {}
        }
      ]
    },
    {
      "cell_type": "markdown",
      "source": [
        "**Plot Interpretation:**\n",
        "\n",
        "1. The bar plot compares the annual income of individuals who own property (\"Y\") and those who do not own property (\"N\"). It helps us understand whether property ownership is associated with differences in annual income.\n",
        "2. Upon examining the bar plot comparing annual income by property ownership, it is observed that property owners (\"Y\") tend to have slightly higher annual incomes compared to non-property owners (\"N\"). Both groups fall within the income range of 175,000 to 200,000, suggesting that property ownership may not be strongly associated with significantly higher income in this dataset."
      ],
      "metadata": {
        "id": "20ZKOutmh073"
      }
    },
    {
      "cell_type": "markdown",
      "source": [
        "### **Visualizing Annual Income by Income Type:**"
      ],
      "metadata": {
        "id": "58Kpoi_WklQK"
      }
    },
    {
      "cell_type": "code",
      "source": [
        "# Create a bar plot to visualize the relationship between 'Type_Income' and 'Annual_income'\n",
        "ax = sns.barplot(x='Type_Income', y='Annual_income', data=Credit_Card_approved)\n",
        "\n",
        "# Set x-axis label font size for readability\n",
        "ax.set_xticklabels(ax.get_xticklabels(), fontsize=8)\n",
        "\n",
        "# Set plot title\n",
        "plt.title(\"Annual Income by Income Type\")\n",
        "\n",
        "# Show the plot\n",
        "plt.show()"
      ],
      "metadata": {
        "colab": {
          "base_uri": "https://localhost:8080/",
          "height": 475
        },
        "id": "IPeBZxKCv-ZV",
        "outputId": "d4a8a3dc-f97f-4b12-d884-0a2c31a55ee7"
      },
      "execution_count": null,
      "outputs": [
        {
          "output_type": "display_data",
          "data": {
            "text/plain": [
              "<Figure size 640x480 with 1 Axes>"
            ],
            "image/png": "[encoded data removed]"
          },
          "metadata": {}
        }
      ]
    },
    {
      "cell_type": "markdown",
      "source": [
        "**Plot Interpretation:**\n",
        "\n",
        "Upon analyzing the bar plot comparing annual income by income type, we can discern distinct income patterns across the four income types:\n",
        "\n",
        "1. **Commercial associate:** Individuals classified as commercial associates exhibit an annual income that typically falls in the range of approximately 200,000 to 250,000. This places them in the category of relatively higher earners.\n",
        "\n",
        "2. **State servant:** State servants tend to have annual incomes exceeding 200,000, signifying a notable income level, although below that of commercial associates.\n",
        "\n",
        "3. **Working:** The working class generally falls within the annual income range of approximately 150,000 to 200,000, positioning them in the middle-income category.\n",
        "\n",
        "4. **Pensioner:** Pensioners have slightly higher annual incomes than 150,000, indicating that they have a moderate income level."
      ],
      "metadata": {
        "id": "HrzbwlaSkt_O"
      }
    },
    {
      "cell_type": "markdown",
      "source": [
        "### **Visualizing Annual Income by Education Level:**"
      ],
      "metadata": {
        "id": "SlWpI6n5lbxR"
      }
    },
    {
      "cell_type": "code",
      "source": [
        "# Create a bar plot to visualize the relationship between 'EDUCATION' and 'Annual_income'\n",
        "ax = sns.barplot(x='EDUCATION', y='Annual_income', data=Credit_Card_approved)\n",
        "\n",
        "# Set x-axis label font size for readability\n",
        "ax.set_xticklabels(ax.get_xticklabels(), fontsize=5)\n",
        "\n",
        "# Set plot title\n",
        "plt.title(\"Annual Income by Education Level\")\n",
        "\n",
        "# Show the plot\n",
        "plt.show()"
      ],
      "metadata": {
        "colab": {
          "base_uri": "https://localhost:8080/",
          "height": 471
        },
        "id": "Dprz2hAc6EUa",
        "outputId": "c0c323c2-9ea2-4ca6-91f7-71ee7d6f862e"
      },
      "execution_count": null,
      "outputs": [
        {
          "output_type": "display_data",
          "data": {
            "text/plain": [
              "<Figure size 640x480 with 1 Axes>"
            ],
            "image/png": "[encoded data removed]"
          },
          "metadata": {}
        }
      ]
    },
    {
      "cell_type": "markdown",
      "source": [
        "**Plot Interpretation:**\n",
        "\n",
        "Upon examining the bar plot that visualizes annual income by education level, distinct income patterns emerge across the various education categories:\n",
        "\n",
        "1. **Academic degree and Higher education:** Individuals with academic degrees and higher education qualifications tend to have annual incomes that are quite comparable, with most falling below the 250,000 mark. This suggests that these two groups typically earn similar salaries.\n",
        "\n",
        "2. **Incomplete Higher:** Individuals with incomplete higher education qualifications have an average annual income slightly exceeding 200,000, signifying a relatively high income level among this group.\n",
        "\n",
        "3. **Secondary/Secondary special:** Those with secondary or secondary special education backgrounds generally have annual incomes in the range of approximately 150,000 to 200,000, positioning them within the middle-income bracket.\n",
        "\n",
        "4. **Lower Secondary:** The lower secondary education category indicates annual incomes that are slightly lower than 150,000, implying a moderate income level for individuals with this education level."
      ],
      "metadata": {
        "id": "RmgoVnl4lph-"
      }
    },
    {
      "cell_type": "markdown",
      "source": [
        "## **Visualizing Annual Income by Marital Status:**"
      ],
      "metadata": {
        "id": "N2FkI3x4ndvP"
      }
    },
    {
      "cell_type": "code",
      "source": [
        "# Create a bar plot to visualize the relationship between 'Marital_status' and 'Annual_income'\n",
        "ax = sns.barplot(x='Marital_status', y='Annual_income', data=Credit_Card_approved)\n",
        "\n",
        "# Set x-axis label font size for readability\n",
        "ax.set_xticklabels(ax.get_xticklabels(), fontsize=8)\n",
        "\n",
        "# Set plot title\n",
        "plt.title(\"Annual Income by Marital Status\")\n",
        "\n",
        "# Show the plot\n",
        "plt.show()"
      ],
      "metadata": {
        "colab": {
          "base_uri": "https://localhost:8080/",
          "height": 475
        },
        "id": "RQZKVw7Qv-b7",
        "outputId": "84fbfb0d-25d3-40e8-99bd-7a13209a1e3c"
      },
      "execution_count": null,
      "outputs": [
        {
          "output_type": "display_data",
          "data": {
            "text/plain": [
              "<Figure size 640x480 with 1 Axes>"
            ],
            "image/png": "[encoded data removed]"
          },
          "metadata": {}
        }
      ]
    },
    {
      "cell_type": "markdown",
      "source": [
        "**Plot Interpretation:**\n",
        "\n",
        "Upon analyzing the bar plot that visualizes annual income by marital status, distinct income patterns become evident among the various marital status categories:\n",
        "\n",
        "1. **Single/Not Married:** Individuals who are single or not married tend to have higher annual incomes, with most of them earning above 200,000. This indicates a relatively strong income level among this group.\n",
        "\n",
        "2. **Married, Civil Marriage, and Separated:** These three marital status categories, namely married, civil marriage, and separated, exhibit relatively similar income levels. Individuals in these categories generally have annual incomes below the 200,000 mark, implying a moderate income range.\n",
        "\n",
        "3. **Widow:** Widowed individuals tend to have annual incomes above 150,000, indicating a notable income level among this group."
      ],
      "metadata": {
        "id": "AjeD7Pp8pVAu"
      }
    },
    {
      "cell_type": "markdown",
      "source": [
        "### **Class Distribution of Credit Card Applications:**"
      ],
      "metadata": {
        "id": "xwqH8JAJVbMJ"
      }
    },
    {
      "cell_type": "code",
      "source": [
        "# Count the occurrences of each label\n",
        "label_counts = Credit_Card_approved['label'].value_counts()\n",
        "\n",
        "# Calculate the percentage of each label\n",
        "label_percentages = (label_counts / len(Credit_Card_approved)) * 100\n",
        "\n",
        "# Create a bar plot with percentages\n",
        "plt.figure(figsize=(6, 4))\n",
        "ax = label_counts.plot(kind='bar', color='skyblue')\n",
        "plt.title('Distribution of Credit Card Acceptance')\n",
        "plt.xlabel('Label')\n",
        "plt.ylabel('Count')\n",
        "plt.xticks(rotation=0)\n",
        "\n",
        "# Add percentages on top of the bars\n",
        "for i, v in enumerate(label_counts):\n",
        "    ax.text(i, v + 5, f'{label_percentages[i]:.2f}%', ha='center', va='bottom')\n",
        "\n",
        "plt.show()"
      ],
      "metadata": {
        "colab": {
          "base_uri": "https://localhost:8080/",
          "height": 419
        },
        "id": "hfmiYpVeUI8M",
        "outputId": "b4554ff8-4e0c-4053-9bae-d98000da0727"
      },
      "execution_count": null,
      "outputs": [
        {
          "output_type": "display_data",
          "data": {
            "text/plain": [
              "<Figure size 600x400 with 1 Axes>"
            ],
            "image/png": "[encoded data removed]"
          },
          "metadata": {}
        }
      ]
    },
    {
      "cell_type": "markdown",
      "source": [
        "**Plot Interpretation:**\n",
        "\n",
        "1. The bar plot illustrates the distribution of credit card applications, categorized as \"Rejected\" (0) and \"Approved\" (1).\n",
        "2. The data reveals that a significant majority of credit card applications fall under the \"Rejected\" category, representing approximately 88.70% of the total. In contrast, the \"Approved\" applications constitute a minority, accounting for only about 11.30% of the dataset.\n",
        "3. This distribution emphasizes a notable class imbalance, with a considerably higher number of rejected applications compared to approved ones."
      ],
      "metadata": {
        "id": "y1DUe80mVKOi"
      }
    },
    {
      "cell_type": "markdown",
      "source": [
        "# **Data Preprocessing:**"
      ],
      "metadata": {
        "id": "PSLJ_hzevyBz"
      }
    },
    {
      "cell_type": "markdown",
      "source": [
        "### **Finding Null Values In Dataset:**\n"
      ],
      "metadata": {
        "id": "E54X2VYZ-JnS"
      }
    },
    {
      "cell_type": "code",
      "source": [
        "# Check for missing values in the 'Credit_Card_approved' DataFrame and calculate the sum of missing values for each column\n",
        "missing_values = Credit_Card_approved.isnull().sum()\n"
      ],
      "metadata": {
        "id": "QRdnXmPh5P36"
      },
      "execution_count": null,
      "outputs": []
    },
    {
      "cell_type": "markdown",
      "source": [
        "**Missing Values Summary:**\n",
        "\n",
        "Here's a summary of missing values in the Credit_Card_approved DataFrame:\n",
        "\n",
        "1. **GENDER:** 7 missing values\n",
        "2. **Annual_income:** 23 missing values\n",
        "3. **Birthday_count:** 22 missing values\n",
        "4. **Type_Occupation:** 488 missing values"
      ],
      "metadata": {
        "id": "gH5UnZ77wiQr"
      }
    },
    {
      "cell_type": "code",
      "source": [
        "# Drop rows with missing values in specific columns: 'Annual_income', 'GENDER', 'Birthday_count'\n",
        "Credit_Card_approved = Credit_Card_approved.dropna(subset=['Annual_income', 'GENDER','Birthday_count'])"
      ],
      "metadata": {
        "id": "R_iyH9KIxVxb"
      },
      "execution_count": null,
      "outputs": []
    },
    {
      "cell_type": "markdown",
      "source": [
        "#### **Handling Missing Values:**\n",
        "1. **Annual_income, GENDER and Birthday_count Columns:**\n",
        "\n",
        "* We observed missing values in the 'Annual_income,' 'GENDER,' and 'Birthday_count' columns, with 23, 7, and 22 missing values, respectively. Given that these columns contain relatively small numbers of missing values compared to the overall dataset size, we decided to address these missing values by removing rows with missing data in these specific columns.\n",
        "\n",
        "* This approach helps maintain the overall quality of the dataset while preserving data integrity in these critical columns.\n",
        "\n",
        "2. **Type_Occupation Column:**\n",
        "\n",
        "* In contrast, we encountered a larger number of missing values, specifically 488, in the 'Type_Occupation' column. Removing these rows would result in a substantial loss of data, which could potentially impact the representativeness of our analysis.\n",
        "\n",
        "* Therefore, we made the decision to retain rows with missing values in the 'Type_Occupation' column. While this approach acknowledges the presence of missing data, it allows us to leverage the available information from the majority of the dataset."
      ],
      "metadata": {
        "id": "vapRY0E4yK0x"
      }
    },
    {
      "cell_type": "markdown",
      "source": [
        "### **Data Transformations:**"
      ],
      "metadata": {
        "id": "wVFARtZKzeIq"
      }
    },
    {
      "cell_type": "code",
      "source": [
        "import pandas as pd\n",
        "pd.options.mode.chained_assignment = None  # Suppress warnings\n",
        "\n",
        "# Calculate Age based on Birthday_count\n",
        "Credit_Card_approved['Age']=-(Credit_Card_approved['Birthday_count'])//365\n",
        "\n",
        "# Create a new column 'Employment_Status' based on 'Employed_days' indicating employment status\n",
        "Credit_Card_approved['Employment_Status'] = Credit_Card_approved['Employed_days'].apply(lambda x: 1 if x < 0 else 0)\n",
        "\n",
        "# There are many incorrect values in 'Employed_days'. Therefore, keeping rows where 'Employed_days' is less than or equal to 365000\n",
        "Credit_Card_approved = Credit_Card_approved[Credit_Card_approved['Employed_days'] <= 365000]\n",
        "\n",
        "# Drop both 'Employed_days' and 'Birthday_count' columns from the DataFrame\n",
        "Credit_Card_approved = Credit_Card_approved.drop(['Employed_days', 'Birthday_count'], axis=1)\n"
      ],
      "metadata": {
        "id": "45vQ5Smf8ggg"
      },
      "execution_count": null,
      "outputs": []
    },
    {
      "cell_type": "markdown",
      "source": [
        "1. **Calculate Age based on Birthday_count:** This line calculates the age of individuals by taking their Birthday_count, which is measured in days, dividing it by 365 to convert it to years, and negating it to get the age in years. The result is stored in a new column named 'Age' in the Credit_Card_approved DataFrame.\n",
        "\n",
        "2. **Create a new column 'Employment_Status' based on 'Employed_days':** This line creates a new column named 'Employment_Status' in the Credit_Card_approved DataFrame. The values in this column are derived from the 'Employed_days' column. If 'Employed_days' is less than 0, it assigns 1, indicating employment status; otherwise, it assigns 0.\n",
        "\n",
        "3. **Filter rows where 'Employed_days' is less than or equal to 365,000:** This line filters the rows in the Credit_Card_approved DataFrame to keep only those where 'Employed_days' is less than or equal to 365,000. This step removes rows with incorrect or outlying 'Employed_days' values.\n",
        "\n",
        "4. **Drop both 'Employed_days' and 'Birthday_count' columns from the DataFrame:** This line removes the 'Employed_days' and 'Birthday_count' columns from the DataFrame, leaving only the cleaned and processed data."
      ],
      "metadata": {
        "id": "qbmyhwyn5yqQ"
      }
    },
    {
      "cell_type": "markdown",
      "source": [
        "### **Feature Selection:**"
      ],
      "metadata": {
        "id": "VOtYpP7zAhVD"
      }
    },
    {
      "cell_type": "code",
      "source": [
        "# List of unwanted columns to be removed\n",
        "unwanted_columns = ['Mobile_phone', 'Work_Phone', 'Phone', 'EMAIL_ID', 'Type_Occupation']\n",
        "\n",
        "# Remove the unwanted columns from the dataset\n",
        "Credit_Card_approved.drop(columns=unwanted_columns, inplace=True)\n"
      ],
      "metadata": {
        "id": "_oZwGCYKXWI4"
      },
      "execution_count": null,
      "outputs": []
    },
    {
      "cell_type": "markdown",
      "source": [
        "1. **Irrelevance to the Model:** The columns 'Mobile_phone,' 'Work_Phone,' 'Phone,' and 'EMAIL_ID' do not contain information that is expected to significantly impact our model's predictions. They are unrelated to the credit card approval decision and are therefore considered redundant.\n",
        "\n",
        "2. **Data Completeness:** The 'Type_Occupation' column exhibits a substantial number of missing values (null values). In cases where data is missing for a large portion of a column, including that column in the model can lead to unreliable results and may not contribute meaningfully to the model's predictive power. Therefore, it is prudent to exclude this column to maintain the integrity and reliability of our model.\n",
        "\n",
        "By removing these columns, we streamline our dataset, making it more focused on relevant features. This enhances the efficiency of our model and simplifies the subsequent stages of data preprocessing and model building.\n",
        "\n",
        "\n",
        "\n",
        "\n",
        "\n",
        "\n"
      ],
      "metadata": {
        "id": "UyEPJd2AXyzo"
      }
    },
    {
      "cell_type": "code",
      "source": [
        "Sql_Credit_Card_Approved = Credit_Card_approved\n",
        "Sql_Credit_Card_Approved"
      ],
      "metadata": {
        "colab": {
          "base_uri": "https://localhost:8080/",
          "height": 756
        },
        "id": "pVXBD_WzVWXi",
        "outputId": "93400f0d-8548-4312-f0d0-a0c21de792f8"
      },
      "execution_count": null,
      "outputs": [
        {
          "output_type": "execute_result",
          "data": {
            "text/plain": [
              "       Ind_ID GENDER Car_Owner Propert_Owner  CHILDREN  Annual_income  \\\n",
              "1     5009744      F         Y             N         0       315000.0   \n",
              "4     5009752      F         Y             N         0       315000.0   \n",
              "6     5009754      F         Y             N         0       315000.0   \n",
              "8     5010864      M         Y             Y         1       450000.0   \n",
              "9     5010868      M         Y             Y         1       450000.0   \n",
              "...       ...    ...       ...           ...       ...            ...   \n",
              "1542  5118268      M         Y             N         1       360000.0   \n",
              "1544  5023655      F         N             N         0       225000.0   \n",
              "1545  5115992      M         Y             Y         2       180000.0   \n",
              "1546  5118219      M         Y             N         0       270000.0   \n",
              "1547  5053790      F         Y             Y         0       225000.0   \n",
              "\n",
              "               Type_Income                      EDUCATION  \\\n",
              "1     Commercial associate               Higher education   \n",
              "4     Commercial associate               Higher education   \n",
              "6     Commercial associate               Higher education   \n",
              "8     Commercial associate  Secondary / secondary special   \n",
              "9                Pensioner  Secondary / secondary special   \n",
              "...                    ...                            ...   \n",
              "1542         State servant  Secondary / secondary special   \n",
              "1544  Commercial associate              Incomplete higher   \n",
              "1545               Working               Higher education   \n",
              "1546               Working  Secondary / secondary special   \n",
              "1547               Working               Higher education   \n",
              "\n",
              "            Marital_status       Housing_type  Family_Members  label   Age  \\\n",
              "1                  Married  House / apartment               2      1  37.0   \n",
              "4                  Married  House / apartment               2      1  37.0   \n",
              "6                  Married  House / apartment               2      1  37.0   \n",
              "8                  Married  House / apartment               3      1  49.0   \n",
              "9                  Married  House / apartment               3      1  49.0   \n",
              "...                    ...                ...             ...    ...   ...   \n",
              "1542               Married  House / apartment               3      0  30.0   \n",
              "1544  Single / not married  House / apartment               1      0  28.0   \n",
              "1545               Married  House / apartment               4      0  36.0   \n",
              "1546        Civil marriage  House / apartment               2      0  41.0   \n",
              "1547               Married  House / apartment               2      0  45.0   \n",
              "\n",
              "      Employment_Status  \n",
              "1                     1  \n",
              "4                     1  \n",
              "6                     1  \n",
              "8                     1  \n",
              "9                     1  \n",
              "...                 ...  \n",
              "1542                  1  \n",
              "1544                  1  \n",
              "1545                  1  \n",
              "1546                  1  \n",
              "1547                  1  \n",
              "\n",
              "[1244 rows x 14 columns]"
            ],
            "text/html": [
              "\n",
              "  <div id=\"df-6621078f-9e83-41bf-b882-94149116fc4c\" class=\"colab-df-container\">\n",
              "    <div>\n",
              "<style scoped>\n",
              "    .dataframe tbody tr th:only-of-type {\n",
              "        vertical-align: middle;\n",
              "    }\n",
              "\n",
              "    .dataframe tbody tr th {\n",
              "        vertical-align: top;\n",
              "    }\n",
              "\n",
              "    .dataframe thead th {\n",
              "        text-align: right;\n",
              "    }\n",
              "</style>\n",
              "<table border=\"1\" class=\"dataframe\">\n",
              "  <thead>\n",
              "    <tr style=\"text-align: right;\">\n",
              "      <th></th>\n",
              "      <th>Ind_ID</th>\n",
              "      <th>GENDER</th>\n",
              "      <th>Car_Owner</th>\n",
              "      <th>Propert_Owner</th>\n",
              "      <th>CHILDREN</th>\n",
              "      <th>Annual_income</th>\n",
              "      <th>Type_Income</th>\n",
              "      <th>EDUCATION</th>\n",
              "      <th>Marital_status</th>\n",
              "      <th>Housing_type</th>\n",
              "      <th>Family_Members</th>\n",
              "      <th>label</th>\n",
              "      <th>Age</th>\n",
              "      <th>Employment_Status</th>\n",
              "    </tr>\n",
              "  </thead>\n",
              "  <tbody>\n",
              "    <tr>\n",
              "      <th>1</th>\n",
              "      <td>5009744</td>\n",
              "      <td>F</td>\n",
              "      <td>Y</td>\n",
              "      <td>N</td>\n",
              "      <td>0</td>\n",
              "      <td>315000.0</td>\n",
              "      <td>Commercial associate</td>\n",
              "      <td>Higher education</td>\n",
              "      <td>Married</td>\n",
              "      <td>House / apartment</td>\n",
              "      <td>2</td>\n",
              "      <td>1</td>\n",
              "      <td>37.0</td>\n",
              "      <td>1</td>\n",
              "    </tr>\n",
              "    <tr>\n",
              "      <th>4</th>\n",
              "      <td>5009752</td>\n",
              "      <td>F</td>\n",
              "      <td>Y</td>\n",
              "      <td>N</td>\n",
              "      <td>0</td>\n",
              "      <td>315000.0</td>\n",
              "      <td>Commercial associate</td>\n",
              "      <td>Higher education</td>\n",
              "      <td>Married</td>\n",
              "      <td>House / apartment</td>\n",
              "      <td>2</td>\n",
              "      <td>1</td>\n",
              "      <td>37.0</td>\n",
              "      <td>1</td>\n",
              "    </tr>\n",
              "    <tr>\n",
              "      <th>6</th>\n",
              "      <td>5009754</td>\n",
              "      <td>F</td>\n",
              "      <td>Y</td>\n",
              "      <td>N</td>\n",
              "      <td>0</td>\n",
              "      <td>315000.0</td>\n",
              "      <td>Commercial associate</td>\n",
              "      <td>Higher education</td>\n",
              "      <td>Married</td>\n",
              "      <td>House / apartment</td>\n",
              "      <td>2</td>\n",
              "      <td>1</td>\n",
              "      <td>37.0</td>\n",
              "      <td>1</td>\n",
              "    </tr>\n",
              "    <tr>\n",
              "      <th>8</th>\n",
              "      <td>5010864</td>\n",
              "      <td>M</td>\n",
              "      <td>Y</td>\n",
              "      <td>Y</td>\n",
              "      <td>1</td>\n",
              "      <td>450000.0</td>\n",
              "      <td>Commercial associate</td>\n",
              "      <td>Secondary / secondary special</td>\n",
              "      <td>Married</td>\n",
              "      <td>House / apartment</td>\n",
              "      <td>3</td>\n",
              "      <td>1</td>\n",
              "      <td>49.0</td>\n",
              "      <td>1</td>\n",
              "    </tr>\n",
              "    <tr>\n",
              "      <th>9</th>\n",
              "      <td>5010868</td>\n",
              "      <td>M</td>\n",
              "      <td>Y</td>\n",
              "      <td>Y</td>\n",
              "      <td>1</td>\n",
              "      <td>450000.0</td>\n",
              "      <td>Pensioner</td>\n",
              "      <td>Secondary / secondary special</td>\n",
              "      <td>Married</td>\n",
              "      <td>House / apartment</td>\n",
              "      <td>3</td>\n",
              "      <td>1</td>\n",
              "      <td>49.0</td>\n",
              "      <td>1</td>\n",
              "    </tr>\n",
              "    <tr>\n",
              "      <th>...</th>\n",
              "      <td>...</td>\n",
              "      <td>...</td>\n",
              "      <td>...</td>\n",
              "      <td>...</td>\n",
              "      <td>...</td>\n",
              "      <td>...</td>\n",
              "      <td>...</td>\n",
              "      <td>...</td>\n",
              "      <td>...</td>\n",
              "      <td>...</td>\n",
              "      <td>...</td>\n",
              "      <td>...</td>\n",
              "      <td>...</td>\n",
              "      <td>...</td>\n",
              "    </tr>\n",
              "    <tr>\n",
              "      <th>1542</th>\n",
              "      <td>5118268</td>\n",
              "      <td>M</td>\n",
              "      <td>Y</td>\n",
              "      <td>N</td>\n",
              "      <td>1</td>\n",
              "      <td>360000.0</td>\n",
              "      <td>State servant</td>\n",
              "      <td>Secondary / secondary special</td>\n",
              "      <td>Married</td>\n",
              "      <td>House / apartment</td>\n",
              "      <td>3</td>\n",
              "      <td>0</td>\n",
              "      <td>30.0</td>\n",
              "      <td>1</td>\n",
              "    </tr>\n",
              "    <tr>\n",
              "      <th>1544</th>\n",
              "      <td>5023655</td>\n",
              "      <td>F</td>\n",
              "      <td>N</td>\n",
              "      <td>N</td>\n",
              "      <td>0</td>\n",
              "      <td>225000.0</td>\n",
              "      <td>Commercial associate</td>\n",
              "      <td>Incomplete higher</td>\n",
              "      <td>Single / not married</td>\n",
              "      <td>House / apartment</td>\n",
              "      <td>1</td>\n",
              "      <td>0</td>\n",
              "      <td>28.0</td>\n",
              "      <td>1</td>\n",
              "    </tr>\n",
              "    <tr>\n",
              "      <th>1545</th>\n",
              "      <td>5115992</td>\n",
              "      <td>M</td>\n",
              "      <td>Y</td>\n",
              "      <td>Y</td>\n",
              "      <td>2</td>\n",
              "      <td>180000.0</td>\n",
              "      <td>Working</td>\n",
              "      <td>Higher education</td>\n",
              "      <td>Married</td>\n",
              "      <td>House / apartment</td>\n",
              "      <td>4</td>\n",
              "      <td>0</td>\n",
              "      <td>36.0</td>\n",
              "      <td>1</td>\n",
              "    </tr>\n",
              "    <tr>\n",
              "      <th>1546</th>\n",
              "      <td>5118219</td>\n",
              "      <td>M</td>\n",
              "      <td>Y</td>\n",
              "      <td>N</td>\n",
              "      <td>0</td>\n",
              "      <td>270000.0</td>\n",
              "      <td>Working</td>\n",
              "      <td>Secondary / secondary special</td>\n",
              "      <td>Civil marriage</td>\n",
              "      <td>House / apartment</td>\n",
              "      <td>2</td>\n",
              "      <td>0</td>\n",
              "      <td>41.0</td>\n",
              "      <td>1</td>\n",
              "    </tr>\n",
              "    <tr>\n",
              "      <th>1547</th>\n",
              "      <td>5053790</td>\n",
              "      <td>F</td>\n",
              "      <td>Y</td>\n",
              "      <td>Y</td>\n",
              "      <td>0</td>\n",
              "      <td>225000.0</td>\n",
              "      <td>Working</td>\n",
              "      <td>Higher education</td>\n",
              "      <td>Married</td>\n",
              "      <td>House / apartment</td>\n",
              "      <td>2</td>\n",
              "      <td>0</td>\n",
              "      <td>45.0</td>\n",
              "      <td>1</td>\n",
              "    </tr>\n",
              "  </tbody>\n",
              "</table>\n",
              "<p>1244 rows × 14 columns</p>\n",
              "</div>\n",
              "    <div class=\"colab-df-buttons\">\n",
              "\n",
              "  <div class=\"colab-df-container\">\n",
              "    <button class=\"colab-df-convert\" onclick=\"convertToInteractive('df-6621078f-9e83-41bf-b882-94149116fc4c')\"\n",
              "            title=\"Convert this dataframe to an interactive table.\"\n",
              "            style=\"display:none;\">\n",
              "\n",
              "  <svg xmlns=\"http://www.w3.org/2000/svg\" height=\"24px\" viewBox=\"0 -960 960 960\">\n",
              "    <path d=\"M120-120v-720h720v720H120Zm60-500h600v-160H180v160Zm220 220h160v-160H400v160Zm0 220h160v-160H400v160ZM180-400h160v-160H180v160Zm440 0h160v-160H620v160ZM180-180h160v-160H180v160Zm440 0h160v-160H620v160Z\"/>\n",
              "  </svg>\n",
              "    </button>\n",
              "\n",
              "  <style>\n",
              "    .colab-df-container {\n",
              "      display:flex;\n",
              "      gap: 12px;\n",
              "    }\n",
              "\n",
              "    .colab-df-convert {\n",
              "      background-color: #E8F0FE;\n",
              "      border: none;\n",
              "      border-radius: 50%;\n",
              "      cursor: pointer;\n",
              "      display: none;\n",
              "      fill: #1967D2;\n",
              "      height: 32px;\n",
              "      padding: 0 0 0 0;\n",
              "      width: 32px;\n",
              "    }\n",
              "\n",
              "    .colab-df-convert:hover {\n",
              "      background-color: #E2EBFA;\n",
              "      box-shadow: 0px 1px 2px rgba(60, 64, 67, 0.3), 0px 1px 3px 1px rgba(60, 64, 67, 0.15);\n",
              "      fill: #174EA6;\n",
              "    }\n",
              "\n",
              "    .colab-df-buttons div {\n",
              "      margin-bottom: 4px;\n",
              "    }\n",
              "\n",
              "    [theme=dark] .colab-df-convert {\n",
              "      background-color: #3B4455;\n",
              "      fill: #D2E3FC;\n",
              "    }\n",
              "\n",
              "    [theme=dark] .colab-df-convert:hover {\n",
              "      background-color: #434B5C;\n",
              "      box-shadow: 0px 1px 3px 1px rgba(0, 0, 0, 0.15);\n",
              "      filter: drop-shadow(0px 1px 2px rgba(0, 0, 0, 0.3));\n",
              "      fill: #FFFFFF;\n",
              "    }\n",
              "  </style>\n",
              "\n",
              "    <script>\n",
              "      const buttonEl =\n",
              "        document.querySelector('#df-6621078f-9e83-41bf-b882-94149116fc4c button.colab-df-convert');\n",
              "      buttonEl.style.display =\n",
              "        google.colab.kernel.accessAllowed ? 'block' : 'none';\n",
              "\n",
              "      async function convertToInteractive(key) {\n",
              "        const element = document.querySelector('#df-6621078f-9e83-41bf-b882-94149116fc4c');\n",
              "        const dataTable =\n",
              "          await google.colab.kernel.invokeFunction('convertToInteractive',\n",
              "                                                    [key], {});\n",
              "        if (!dataTable) return;\n",
              "\n",
              "        const docLinkHtml = 'Like what you see? Visit the ' +\n",
              "          '<a target=\"_blank\" href=https://colab.research.google.com/notebooks/data_table.ipynb>data table notebook</a>'\n",
              "          + ' to learn more about interactive tables.';\n",
              "        element.innerHTML = '';\n",
              "        dataTable['output_type'] = 'display_data';\n",
              "        await google.colab.output.renderOutput(dataTable, element);\n",
              "        const docLink = document.createElement('div');\n",
              "        docLink.innerHTML = docLinkHtml;\n",
              "        element.appendChild(docLink);\n",
              "      }\n",
              "    </script>\n",
              "  </div>\n",
              "\n",
              "\n",
              "<div id=\"df-ba90d8d7-d46d-4919-85fa-0c7144f07f6f\">\n",
              "  <button class=\"colab-df-quickchart\" onclick=\"quickchart('df-ba90d8d7-d46d-4919-85fa-0c7144f07f6f')\"\n",
              "            title=\"Suggest charts.\"\n",
              "            style=\"display:none;\">\n",
              "\n",
              "<svg xmlns=\"http://www.w3.org/2000/svg\" height=\"24px\"viewBox=\"0 0 24 24\"\n",
              "     width=\"24px\">\n",
              "    <g>\n",
              "        <path d=\"M19 3H5c-1.1 0-2 .9-2 2v14c0 1.1.9 2 2 2h14c1.1 0 2-.9 2-2V5c0-1.1-.9-2-2-2zM9 17H7v-7h2v7zm4 0h-2V7h2v10zm4 0h-2v-4h2v4z\"/>\n",
              "    </g>\n",
              "</svg>\n",
              "  </button>\n",
              "\n",
              "<style>\n",
              "  .colab-df-quickchart {\n",
              "      --bg-color: #E8F0FE;\n",
              "      --fill-color: #1967D2;\n",
              "      --hover-bg-color: #E2EBFA;\n",
              "      --hover-fill-color: #174EA6;\n",
              "      --disabled-fill-color: #AAA;\n",
              "      --disabled-bg-color: #DDD;\n",
              "  }\n",
              "\n",
              "  [theme=dark] .colab-df-quickchart {\n",
              "      --bg-color: #3B4455;\n",
              "      --fill-color: #D2E3FC;\n",
              "      --hover-bg-color: #434B5C;\n",
              "      --hover-fill-color: #FFFFFF;\n",
              "      --disabled-bg-color: #3B4455;\n",
              "      --disabled-fill-color: #666;\n",
              "  }\n",
              "\n",
              "  .colab-df-quickchart {\n",
              "    background-color: var(--bg-color);\n",
              "    border: none;\n",
              "    border-radius: 50%;\n",
              "    cursor: pointer;\n",
              "    display: none;\n",
              "    fill: var(--fill-color);\n",
              "    height: 32px;\n",
              "    padding: 0;\n",
              "    width: 32px;\n",
              "  }\n",
              "\n",
              "  .colab-df-quickchart:hover {\n",
              "    background-color: var(--hover-bg-color);\n",
              "    box-shadow: 0 1px 2px rgba(60, 64, 67, 0.3), 0 1px 3px 1px rgba(60, 64, 67, 0.15);\n",
              "    fill: var(--button-hover-fill-color);\n",
              "  }\n",
              "\n",
              "  .colab-df-quickchart-complete:disabled,\n",
              "  .colab-df-quickchart-complete:disabled:hover {\n",
              "    background-color: var(--disabled-bg-color);\n",
              "    fill: var(--disabled-fill-color);\n",
              "    box-shadow: none;\n",
              "  }\n",
              "\n",
              "  .colab-df-spinner {\n",
              "    border: 2px solid var(--fill-color);\n",
              "    border-color: transparent;\n",
              "    border-bottom-color: var(--fill-color);\n",
              "    animation:\n",
              "      spin 1s steps(1) infinite;\n",
              "  }\n",
              "\n",
              "  @keyframes spin {\n",
              "    0% {\n",
              "      border-color: transparent;\n",
              "      border-bottom-color: var(--fill-color);\n",
              "      border-left-color: var(--fill-color);\n",
              "    }\n",
              "    20% {\n",
              "      border-color: transparent;\n",
              "      border-left-color: var(--fill-color);\n",
              "      border-top-color: var(--fill-color);\n",
              "    }\n",
              "    30% {\n",
              "      border-color: transparent;\n",
              "      border-left-color: var(--fill-color);\n",
              "      border-top-color: var(--fill-color);\n",
              "      border-right-color: var(--fill-color);\n",
              "    }\n",
              "    40% {\n",
              "      border-color: transparent;\n",
              "      border-right-color: var(--fill-color);\n",
              "      border-top-color: var(--fill-color);\n",
              "    }\n",
              "    60% {\n",
              "      border-color: transparent;\n",
              "      border-right-color: var(--fill-color);\n",
              "    }\n",
              "    80% {\n",
              "      border-color: transparent;\n",
              "      border-right-color: var(--fill-color);\n",
              "      border-bottom-color: var(--fill-color);\n",
              "    }\n",
              "    90% {\n",
              "      border-color: transparent;\n",
              "      border-bottom-color: var(--fill-color);\n",
              "    }\n",
              "  }\n",
              "</style>\n",
              "\n",
              "  <script>\n",
              "    async function quickchart(key) {\n",
              "      const quickchartButtonEl =\n",
              "        document.querySelector('#' + key + ' button');\n",
              "      quickchartButtonEl.disabled = true;  // To prevent multiple clicks.\n",
              "      quickchartButtonEl.classList.add('colab-df-spinner');\n",
              "      try {\n",
              "        const charts = await google.colab.kernel.invokeFunction(\n",
              "            'suggestCharts', [key], {});\n",
              "      } catch (error) {\n",
              "        console.error('Error during call to suggestCharts:', error);\n",
              "      }\n",
              "      quickchartButtonEl.classList.remove('colab-df-spinner');\n",
              "      quickchartButtonEl.classList.add('colab-df-quickchart-complete');\n",
              "    }\n",
              "    (() => {\n",
              "      let quickchartButtonEl =\n",
              "        document.querySelector('#df-ba90d8d7-d46d-4919-85fa-0c7144f07f6f button');\n",
              "      quickchartButtonEl.style.display =\n",
              "        google.colab.kernel.accessAllowed ? 'block' : 'none';\n",
              "    })();\n",
              "  </script>\n",
              "</div>\n",
              "    </div>\n",
              "  </div>\n"
            ]
          },
          "metadata": {},
          "execution_count": 214
        }
      ]
    },
    {
      "cell_type": "markdown",
      "source": [
        "**Note:** The dataset mentioned above is being used for our SQL queries"
      ],
      "metadata": {
        "id": "G9m7GPNlVs34"
      }
    },
    {
      "cell_type": "markdown",
      "source": [
        "### **Convert Categorical Variables into Numerical Values :**"
      ],
      "metadata": {
        "id": "EX6V8-ARCnfk"
      }
    },
    {
      "cell_type": "code",
      "source": [
        "Credit_Card_approved.info()   # Checking if the datatypes are matching with individual column"
      ],
      "metadata": {
        "colab": {
          "base_uri": "https://localhost:8080/"
        },
        "id": "bNsQTzMP8gi0",
        "outputId": "c8a1ce28-95f5-464a-8441-f385b4980adc"
      },
      "execution_count": null,
      "outputs": [
        {
          "output_type": "stream",
          "name": "stdout",
          "text": [
            "<class 'pandas.core.frame.DataFrame'>\n",
            "Int64Index: 1244 entries, 1 to 1547\n",
            "Data columns (total 14 columns):\n",
            " #   Column             Non-Null Count  Dtype  \n",
            "---  ------             --------------  -----  \n",
            " 0   Ind_ID             1244 non-null   int64  \n",
            " 1   GENDER             1244 non-null   object \n",
            " 2   Car_Owner          1244 non-null   object \n",
            " 3   Propert_Owner      1244 non-null   object \n",
            " 4   CHILDREN           1244 non-null   int64  \n",
            " 5   Annual_income      1244 non-null   float64\n",
            " 6   Type_Income        1244 non-null   object \n",
            " 7   EDUCATION          1244 non-null   object \n",
            " 8   Marital_status     1244 non-null   object \n",
            " 9   Housing_type       1244 non-null   object \n",
            " 10  Family_Members     1244 non-null   int64  \n",
            " 11  label              1244 non-null   int64  \n",
            " 12  Age                1244 non-null   float64\n",
            " 13  Employment_Status  1244 non-null   int64  \n",
            "dtypes: float64(2), int64(5), object(7)\n",
            "memory usage: 145.8+ KB\n"
          ]
        }
      ]
    },
    {
      "cell_type": "code",
      "source": [
        "# In the info we can see that columns :\n",
        "# 'GENDER','Car_Owner','Propert_Owner,'Type_Income','EDUCATION','Marital_status' and 'Housing_type' are categorical features.\n",
        "\n",
        "#Now we have to covert them into numerical values using Pandas get dummies\n",
        "\n",
        "# List of categorical columns to be one-hot encoded\n",
        "columns=['GENDER', 'Car_Owner', 'Propert_Owner', 'Type_Income', 'EDUCATION', 'Marital_status', 'Housing_type']\n",
        "\n",
        "# Performing one-hot encoding on selected categorical columns\n",
        "Credit_Card_approved = pd.get_dummies(Credit_Card_approved, columns)\n"
      ],
      "metadata": {
        "id": "7Qb4irfG8gls"
      },
      "execution_count": null,
      "outputs": []
    },
    {
      "cell_type": "markdown",
      "source": [
        "In this dataset, there are categorical columns including 'GENDER,' 'Car_Owner,' 'Propert_Owner,' 'Type_Income,' 'EDUCATION,' 'Marital_status,' and 'Housing_type.' To make these categorical features compatible with machine learning algorithms, we use a technique called one-hot encoding."
      ],
      "metadata": {
        "id": "nEHDQkANZJ_p"
      }
    },
    {
      "cell_type": "markdown",
      "source": [
        "### **Log Transformation :**"
      ],
      "metadata": {
        "id": "bvQliXm80LqG"
      }
    },
    {
      "cell_type": "code",
      "source": [
        "# Create a histogram plot with KDE for 'Annual_income'\n",
        "sns.histplot(Credit_Card_approved['Annual_income'], kde=True, bins=25, color='blue', edgecolor='black')\n",
        "\n",
        "# Display the plot\n",
        "plt.show()"
      ],
      "metadata": {
        "colab": {
          "base_uri": "https://localhost:8080/",
          "height": 458
        },
        "id": "LlICp0oZdoNQ",
        "outputId": "02c954e1-09db-40c6-809f-7385cec10915"
      },
      "execution_count": null,
      "outputs": [
        {
          "output_type": "display_data",
          "data": {
            "text/plain": [
              "<Figure size 640x480 with 1 Axes>"
            ],
            "image/png": "[encoded data removed]"
          },
          "metadata": {}
        }
      ]
    },
    {
      "cell_type": "markdown",
      "source": [
        "The histogram plot for the 'Annual_income' column revealed a right-skewed distribution, indicating that the data is not normally distributed. To address this skewness and make the distribution more symmetrical, a log transformation will be applied to the 'Annual_income' values."
      ],
      "metadata": {
        "id": "KrGEWnysaenv"
      }
    },
    {
      "cell_type": "code",
      "source": [
        "import numpy as np\n",
        "\n",
        "# Applying the natural logarithm transformation to normalize our target variable 'Annual_income'\n",
        "Credit_Card_approved['Annual_income'] = np.log(Credit_Card_approved['Annual_income'])\n"
      ],
      "metadata": {
        "id": "Yxuyg19r8gtn"
      },
      "execution_count": null,
      "outputs": []
    },
    {
      "cell_type": "markdown",
      "source": [
        "1. Here, we apply the natural logarithm (log) transformation to the 'Annual_income' column.\n",
        "2. The log transformation calculates the natural logarithm of each data point in the selected column.\n",
        "3. Finally, the transformed values are assigned back to the 'Annual_income' column within the 'Credit_Card_approved' DataFrame. This means that the original income values are replaced with their respective natural logarithm values."
      ],
      "metadata": {
        "id": "o_5Ux87hbPJp"
      }
    },
    {
      "cell_type": "code",
      "source": [
        "# Create a histogram plot of 'Annual_income'\n",
        "sns.histplot(Credit_Card_approved['Annual_income'], kde=True, bins=25, color='blue', edgecolor='black')\n",
        "\n",
        "# Display the plot\n",
        "plt.show()"
      ],
      "metadata": {
        "id": "F6Xh13PH8goL",
        "colab": {
          "base_uri": "https://localhost:8080/",
          "height": 458
        },
        "outputId": "a67c9ee0-acb6-44d8-ce79-abce8553f701"
      },
      "execution_count": null,
      "outputs": [
        {
          "output_type": "display_data",
          "data": {
            "text/plain": [
              "<Figure size 640x480 with 1 Axes>"
            ],
            "image/png": "[encoded data removed]"
          },
          "metadata": {}
        }
      ]
    },
    {
      "cell_type": "markdown",
      "source": [
        "**Plot Interpretation:**\n",
        "\n",
        "1. The histogram plot displayed above represents the distribution of Annual_income values in the dataset.\n",
        "\n",
        "2. Prior to any transformation, the distribution of Annual_income was right-skewed, meaning it had a longer tail on the right side. This skewed distribution indicated that there was a concentration of lower annual income values, with fewer instances of higher incomes.\n",
        "\n",
        "3. After applying log transformation the Annual_income valuse has successfully converted it from a right-skewed distribution to a nearly normal distribution. This transformation improves the suitability of the data for various statistical analyses and modeling techniques that assume normality."
      ],
      "metadata": {
        "id": "W3VkraPeilb5"
      }
    },
    {
      "cell_type": "markdown",
      "source": [
        "### **Dealing with Outliers :**"
      ],
      "metadata": {
        "id": "3wk5zIAPhJ_q"
      }
    },
    {
      "cell_type": "code",
      "source": [
        "# List of columns to create box plots to check for any outliers:\n",
        "columns_to_plot = ['CHILDREN','Annual_income', 'Family_Members', 'Age']\n",
        "\n",
        "# Loop through each column and create box plots\n",
        "for column in columns_to_plot:\n",
        "    plt.figure(figsize=(8, 6))\n",
        "    sns.boxplot(data=Credit_Card_approved, x=column)\n",
        "    plt.title(f'Box Plot of {column}')\n",
        "    plt.xticks(rotation=45)\n",
        "    plt.show()\n",
        "\n",
        "#We are having outliers in 'CHILDREN', 'Family_Members','Annual_income'\n",
        "#Now, we have to remove the outlier to build a better result."
      ],
      "metadata": {
        "colab": {
          "base_uri": "https://localhost:8080/",
          "height": 1000
        },
        "id": "FuhP56yOFZ01",
        "outputId": "363dd2ad-47b5-4787-bd34-b923d3649358"
      },
      "execution_count": null,
      "outputs": [
        {
          "output_type": "display_data",
          "data": {
            "text/plain": [
              "<Figure size 800x600 with 1 Axes>"
            ],
            "image/png": "[encoded data removed]"
          },
          "metadata": {}
        },
        {
          "output_type": "display_data",
          "data": {
            "text/plain": [
              "<Figure size 800x600 with 1 Axes>"
            ],
            "image/png": "[encoded data removed]"
          },
          "metadata": {}
        },
        {
          "output_type": "display_data",
          "data": {
            "text/plain": [
              "<Figure size 800x600 with 1 Axes>"
            ],
            "image/png": "[encoded data removed]"
          },
          "metadata": {}
        },
        {
          "output_type": "display_data",
          "data": {
            "text/plain": [
              "<Figure size 800x600 with 1 Axes>"
            ],
            "image/png": "[encoded data removed]"
          },
          "metadata": {}
        }
      ]
    },
    {
      "cell_type": "markdown",
      "source": [
        "**Outlier Detection Summary:**\n",
        "\n",
        "* The code effectively uses box plots to visualize the distribution of data in the specified columns.\n",
        "* Outliers are identified in the 'CHILDREN', 'Family_Members', and 'Annual_income' columns based on the box plots.\n",
        "* Acknowledging the presence of outliers, now we have to remove these outliers to improve the quality of the data for subsequent analysis and modeling steps."
      ],
      "metadata": {
        "id": "GOohU_Dg7TbO"
      }
    },
    {
      "cell_type": "code",
      "source": [
        "import pandas as pd\n",
        "\n",
        "# Calculating the IQR for 'CHILDREN', 'Family_Members', and 'Annual_income'\n",
        "columns_to_check = ['CHILDREN','Family_Members', 'Annual_income']\n",
        "\n",
        "for column in columns_to_check:\n",
        "    Q1 = Credit_Card_approved[column].quantile(0.25)\n",
        "    Q3 = Credit_Card_approved[column].quantile(0.75)\n",
        "    IQR = Q3 - Q1\n",
        "\n",
        "    # Define lower and upper bounds to identify outliers\n",
        "    lower_bound = Q1 - 1.5 * IQR\n",
        "    upper_bound = Q3 + 1.5 * IQR\n",
        "\n",
        "    # Remove outliers from the column\n",
        "    Credit_Card_approved = Credit_Card_approved[(Credit_Card_approved[column] >= lower_bound) & (Credit_Card_approved[column] <= upper_bound)]\n"
      ],
      "metadata": {
        "id": "jr1Qoq2PRyEv"
      },
      "execution_count": null,
      "outputs": []
    },
    {
      "cell_type": "markdown",
      "source": [
        "**Outlier Removal Summary:**\n",
        "\n",
        "* We have used the IQR method to calculate acceptable bounds for each of the specified columns.\n",
        "* Any data points falling outside these bounds are considered outliers and are removed from the DataFrame."
      ],
      "metadata": {
        "id": "XTlD457I8cFt"
      }
    },
    {
      "cell_type": "code",
      "source": [
        "\n",
        "# List of columns to create box plots for\n",
        "columns_to_plot = ['CHILDREN', 'Annual_income', 'Family_Members']\n",
        "\n",
        "# Loop through each column and create a box plot\n",
        "for column in columns_to_plot:\n",
        "    plt.figure(figsize=(8, 6))\n",
        "    sns.boxplot(data=Credit_Card_approved, x=column)\n",
        "    plt.title(f'Box Plot of {column}')\n",
        "    plt.xticks(rotation=45)\n",
        "    plt.show()"
      ],
      "metadata": {
        "id": "lS49a-9v8hDi",
        "colab": {
          "base_uri": "https://localhost:8080/",
          "height": 1000
        },
        "outputId": "babe5176-e6fc-4adb-9965-abf443ec06b3"
      },
      "execution_count": null,
      "outputs": [
        {
          "output_type": "display_data",
          "data": {
            "text/plain": [
              "<Figure size 800x600 with 1 Axes>"
            ],
            "image/png": "[encoded data removed]"
          },
          "metadata": {}
        },
        {
          "output_type": "display_data",
          "data": {
            "text/plain": [
              "<Figure size 800x600 with 1 Axes>"
            ],
            "image/png": "[encoded data removed]"
          },
          "metadata": {}
        },
        {
          "output_type": "display_data",
          "data": {
            "text/plain": [
              "<Figure size 800x600 with 1 Axes>"
            ],
            "image/png": "[encoded data removed]"
          },
          "metadata": {}
        }
      ]
    },
    {
      "cell_type": "markdown",
      "source": [
        "**Outlier Detection and Removal:**\n",
        "\n",
        "In the data preprocessing phase, we conducted outlier detection and removal to enhance the quality and reliability of our dataset. This process involved visualizing the distribution of data in key columns and taking appropriate measures to address outliers. Here's a summary of the steps we took:\n",
        "\n",
        "1. **Box Plot Visualization:**\n",
        "\n",
        "To identify potential outliers, we selected a set of columns for examination. These columns included 'CHILDREN', 'Annual_income', 'Family_Members' and 'Age'. Box plots were used to visualize the distribution of data in each of these columns. Box plots are valuable tools for detecting outliers by highlighting data points that fall significantly outside the \"whiskers\" of the box.\n",
        "\n",
        "\n",
        "2. **Outlier Identification:**\n",
        "\n",
        "Upon analyzing the box plots, we identified outliers in some of the selected columns. Outliers are data points that deviate significantly from the typical distribution of values and can distort the results of statistical analyses and machine learning models.\n",
        "\n",
        "3. **Outlier Removal Strategy:**\n",
        "\n",
        "To ensure the reliability of our dataset, we employed an outlier removal strategy based on the Interquartile Range (IQR) method. The IQR method involves calculating the Interquartile Range, which measures the statistical dispersion of data. Based on the IQR, we defined lower and upper bounds to identify outliers. Data points falling outside of these bounds were considered outliers and subsequently removed from the dataset.\n",
        "\n",
        "4. **Results:**\n",
        "\n",
        "Through the implementation of this outlier removal strategy, we successfully eliminated outliers from the 'CHILDREN', 'Annual_income' and 'Family_Members' columns. This step was crucial in enhancing the quality of our data, ensuring that our subsequent data analyses and modeling efforts are built upon a more robust and reliable foundation.\n"
      ],
      "metadata": {
        "id": "dncTrHSO9N7j"
      }
    },
    {
      "cell_type": "markdown",
      "source": [
        "# **Model:**"
      ],
      "metadata": {
        "id": "s-4Vcy4TEmNt"
      }
    },
    {
      "cell_type": "markdown",
      "source": [
        "### **Data Splitting:**"
      ],
      "metadata": {
        "id": "7lnEfJmZQiBG"
      }
    },
    {
      "cell_type": "code",
      "source": [
        "# Import the 'train_test_split' function from Scikit-Learn's model_selection module, which we will use to split our data.\n",
        "from sklearn.model_selection import train_test_split\n",
        "\n",
        "# Define our features (X) and target (y)\n",
        "X = Credit_Card_approved.drop(['Ind_ID', 'label'], axis=1)\n",
        "\n",
        "y = Credit_Card_approved['label']\n",
        "\n",
        "# Split the data into training and testing sets\n",
        "X_train, X_test, y_train, y_test = train_test_split(X, y, test_size=0.2, random_state=30)"
      ],
      "metadata": {
        "id": "folTT7zxHirp"
      },
      "execution_count": null,
      "outputs": []
    },
    {
      "cell_type": "markdown",
      "source": [
        "**Data Splitting Details:**\n",
        "\n",
        "1. **Importing 'train_test_split':** Importing the train_test_split function from Scikit-Learn's model_selection module. This function will be used to divide our dataset into training and testing sets.\n",
        "\n",
        "2. **Defining Features and Target:** The features (X) and the target variable (y) are defined. Features typically represent the input variables for our machine learning model, while the target variable is what we want to predict.\n",
        "\n",
        "3. **Data Splitting:**\n",
        "\n",
        "* The train_test_split function is applied to split the data into training and testing sets.\n",
        "* The features are stored in X and y, as defined earlier.\n",
        "The test_size parameter is set to 0.2, indicating that 20% of the data will be allocated to the testing set, and 80% will be used for training.\n",
        "* The random_state parameter is set to 30, which ensures that the data split will be reproducible if the code is run multiple times with the same random state."
      ],
      "metadata": {
        "id": "54fS7wCKnEM9"
      }
    },
    {
      "cell_type": "code",
      "source": [
        "print(X_train.shape)\n",
        "print(y_train.shape)"
      ],
      "metadata": {
        "colab": {
          "base_uri": "https://localhost:8080/"
        },
        "id": "TekMCyR-Hity",
        "outputId": "8029e9b2-7c20-49de-a390-be5004d1afe9"
      },
      "execution_count": null,
      "outputs": [
        {
          "output_type": "stream",
          "name": "stdout",
          "text": [
            "(960, 31)\n",
            "(960,)\n"
          ]
        }
      ]
    },
    {
      "cell_type": "markdown",
      "source": [
        "**Split Data Dimensions:**\n",
        "\n",
        "1. X_train Shape: Our training feature set 'X_train' consists of 960 samples, each with 30 features. This can be represented as (960, 30).\n",
        "\n",
        "2. y_train Shape: Our training target set 'y_train' contains 960 corresponding labels, aligning with the 960 samples in 'X_train'. Its shape is (960,)."
      ],
      "metadata": {
        "id": "tMocprYlor3k"
      }
    },
    {
      "cell_type": "markdown",
      "source": [
        "### **Model Training and Evaluation :**"
      ],
      "metadata": {
        "id": "1w-XC7LwQiOG"
      }
    },
    {
      "cell_type": "markdown",
      "source": [
        "# **Random Forest Classifier :**"
      ],
      "metadata": {
        "id": "P8Tesm4dYsXt"
      }
    },
    {
      "cell_type": "code",
      "source": [
        "# Import necessary libraries\n",
        "from sklearn import metrics\n",
        "from sklearn.metrics import accuracy_score, precision_score, recall_score, f1_score\n",
        "from sklearn.ensemble import RandomForestClassifier\n",
        "from sklearn.preprocessing import StandardScaler\n",
        "\n",
        "# Step 1: Data Preprocessing - Standardization\n",
        "# Initialize the StandardScaler\n",
        "scaler = StandardScaler()\n",
        "\n",
        "# Standardize the training data\n",
        "X_train = scaler.fit_transform(X_train)\n",
        "\n",
        "# Standardize the testing data using the same scaler\n",
        "X_test = scaler.transform(X_test)\n",
        "\n",
        "# Step 2: Model Training - Random Forest Classifier\n",
        "# Initialize the Random Forest Classifier\n",
        "random_forest = RandomForestClassifier()\n",
        "\n",
        "# Train the Random Forest Classifier on the standardized training data\n",
        "random_forest.fit(X_train, y_train)\n",
        "\n",
        "# Step 3: Model Evaluation\n",
        "# Make predictions on the standardized testing data\n",
        "y_pred_random_forest = random_forest.predict(X_test)\n",
        "\n",
        "# Calculate classification metrics\n",
        "accuracy_random_forest = accuracy_score(y_test, y_pred_random_forest)\n",
        "precision_random_forest = precision_score(y_test, y_pred_random_forest)\n",
        "recall_random_forest = recall_score(y_test, y_pred_random_forest)\n",
        "f1_random_forest = f1_score(y_test, y_pred_random_forest)\n",
        "\n",
        "# Step 4: Display Results with Two Decimal Places\n",
        "print(\"Random Forest Classifier:\")\n",
        "print(f\"Accuracy  : {accuracy_random_forest:.4f}\")\n",
        "print(f\"Precision : {precision_random_forest:.4f}\")\n",
        "print(f\"Recall    : {recall_random_forest:.4f}\")\n",
        "print(f\"F1 Score  : {f1_random_forest:.4f}\")\n"
      ],
      "metadata": {
        "id": "3MLvChggdIjH",
        "colab": {
          "base_uri": "https://localhost:8080/"
        },
        "outputId": "fbd727f6-fa94-4131-a3a4-7d636c6d9707"
      },
      "execution_count": null,
      "outputs": [
        {
          "output_type": "stream",
          "name": "stdout",
          "text": [
            "Random Forest Classifier:\n",
            "Accuracy  : 0.9208\n",
            "Precision : 0.5385\n",
            "Recall    : 0.3500\n",
            "F1 Score  : 0.4242\n"
          ]
        }
      ]
    },
    {
      "cell_type": "markdown",
      "source": [
        "## **Model Training and Evaluation**\n",
        "\n",
        "### **Data Preprocessing**\n",
        "\n",
        "We began by standardizing both our training and testing data using the StandardScaler from Scikit-Learn. This standardization process ensures that our features have a mean of 0 and a standard deviation of 1, a crucial step for the optimal performance of our machine learning model.\n",
        "\n",
        "#### **Standardization of Training Data**\n",
        "\n",
        "We applied the StandardScaler to our training features (X_train) using the `fit_transform` method. This procedure ensured proper scaling based on the training data's statistics.\n",
        "\n",
        "#### **Standardization of Testing Data**\n",
        "\n",
        "To maintain consistency in our preprocessing, we used the same StandardScaler instance to transform our testing features (X_test) with the `transform` method.\n",
        "\n",
        "### **Model Training**\n",
        "\n",
        "Next, we initialized a Random Forest Classifier to build our predictive model. The Random Forest algorithm is renowned for its robustness and ability to capture complex relationships within the data.\n",
        "\n",
        "#### **Training the Random Forest Classifier**\n",
        "\n",
        "We proceeded to train the Random Forest Classifier using the standardized training data (X_train and y_train).\n",
        "\n",
        "### **Model Evaluation**\n",
        "\n",
        "We rigorously evaluated the Random Forest Classifier's performance using a comprehensive set of standard classification metrics:\n",
        "\n",
        "- **Accuracy Score:** Approximately 92.08%\n",
        "- **Precision Score:** Approximately 53.85%\n",
        "- **Recall Score:** Approximately 35.00%\n",
        "- **F1 Score:** Approximately 42.42%\n",
        "\n"
      ],
      "metadata": {
        "id": "6tzd2yOup8J3"
      }
    },
    {
      "cell_type": "markdown",
      "source": [
        "# **XGBoost Classifier :**"
      ],
      "metadata": {
        "id": "HCOY3oxKYxFT"
      }
    },
    {
      "cell_type": "code",
      "source": [
        "import xgboost as xgb\n",
        "\n",
        "# Step 1: Data Preprocessing - Standardization\n",
        "scaler = StandardScaler()\n",
        "\n",
        "# Standardize the training data\n",
        "X_train = scaler.fit_transform(X_train)\n",
        "\n",
        "# Standardize the testing data using the same scaler\n",
        "X_test = scaler.transform(X_test)\n",
        "\n",
        "# Step 2: Model Training - XGBoost Classifier\n",
        "xgboost = xgb.XGBClassifier()\n",
        "\n",
        "# Train the XGBoost Classifier on the standardized training data\n",
        "xgboost.fit(X_train, y_train)\n",
        "\n",
        "# Step 3: Model Evaluation\n",
        "# Make predictions on the standardized testing data\n",
        "y_pred_xgboost = xgboost.predict(X_test)\n",
        "\n",
        "# Calculate classification metrics\n",
        "accuracy_xgboost = accuracy_score(y_test, y_pred_xgboost)\n",
        "precision_xgboost = precision_score(y_test, y_pred_xgboost)\n",
        "recall_xgboost = recall_score(y_test, y_pred_xgboost)\n",
        "f1_xgboost = f1_score(y_test, y_pred_xgboost)\n",
        "\n",
        "# Step 4: Display Results with Four Decimal Places\n",
        "print(\"XGB Classifier:\")\n",
        "print(f\"Accuracy  : {accuracy_xgboost:.4f}\")\n",
        "print(f\"Precision : {precision_xgboost:.4f}\")\n",
        "print(f\"Recall    : {recall_xgboost:.4f}\")\n",
        "print(f\"F1 Score  : {f1_xgboost:.4f}\")"
      ],
      "metadata": {
        "id": "Qs5GdkOzdIn5",
        "colab": {
          "base_uri": "https://localhost:8080/"
        },
        "outputId": "931b0aa6-9569-4838-fd64-2f70f2fd3854"
      },
      "execution_count": null,
      "outputs": [
        {
          "output_type": "stream",
          "name": "stdout",
          "text": [
            "XGB Classifier:\n",
            "Accuracy  : 0.8917\n",
            "Precision : 0.3500\n",
            "Recall    : 0.3500\n",
            "F1 Score  : 0.3500\n"
          ]
        }
      ]
    },
    {
      "cell_type": "markdown",
      "source": [
        "## **Model Training and Evaluation**\n",
        "\n",
        "### **Data Preprocessing**\n",
        "\n",
        "Our initial step involved standardizing both the training and testing data using the StandardScaler from Scikit-Learn. Standardization ensures that our features possess a mean of 0 and a standard deviation of 1, a crucial prerequisite for the optimal performance of our machine learning model.\n",
        "\n",
        "#### **Standardization of Training Data**\n",
        "\n",
        "To ensure appropriate scaling based on the training data's statistics, we applied the StandardScaler to our training features (X_train) using the `fit_transform` method.\n",
        "\n",
        "#### **Standardization of Testing Data**\n",
        "\n",
        "In order to maintain consistency in our preprocessing, we consistently utilized the same StandardScaler instance to transform our testing features (X_test) with the `transform` method.\n",
        "\n",
        "### **Model Training**\n",
        "\n",
        "We initiated the training phase by initializing an XGBoost Classifier, a powerful algorithm recognized for its capability to capture intricate relationships within the data.\n",
        "\n",
        "#### **Training the XGBoost Classifier**\n",
        "\n",
        "Our next step encompassed training the XGBoost Classifier utilizing the standardized training data (X_train and y_train).\n",
        "\n",
        "### **Model Evaluation**\n",
        "\n",
        "We conducted a thorough assessment of the XGBoost Classifier's performance through the utilization of a comprehensive set of standard classification metrics:\n",
        "\n",
        "- **Accuracy Score:** Approximately 89.17%\n",
        "- **Precision Score:** Approximately 35.00%\n",
        "- **Recall Score:** Approximately 35.00%\n",
        "- **F1 Score:** Approximately 35.00%\n"
      ],
      "metadata": {
        "id": "EV_VuBRNsN5n"
      }
    },
    {
      "cell_type": "markdown",
      "source": [
        "# **Logistic Regression :**"
      ],
      "metadata": {
        "id": "2VfvWvq4Y52n"
      }
    },
    {
      "cell_type": "code",
      "source": [
        "from sklearn.linear_model import LogisticRegression\n",
        "\n",
        "# Step 1: Data Preprocessing - Standardization\n",
        "scaler = StandardScaler()\n",
        "\n",
        "# Standardize the training data\n",
        "X_train = scaler.fit_transform(X_train)\n",
        "\n",
        "# Standardize the testing data using the same scaler\n",
        "X_test = scaler.transform(X_test)\n",
        "\n",
        "# Step 2: Model Training - Logistic Regression\n",
        "logistic_reg = LogisticRegression()\n",
        "\n",
        "# Train the Logistic Regression model on the standardized training data\n",
        "logistic_reg.fit(X_train, y_train)\n",
        "\n",
        "# Step 3: Model Evaluation\n",
        "# Make predictions on the standardized testing data\n",
        "logistic_reg_pred = logistic_reg.predict(X_test)\n",
        "\n",
        "# Calculate classification metrics\n",
        "accuracy_lr = accuracy_score(y_test, logistic_reg_pred)\n",
        "precision_lr = precision_score(y_test, logistic_reg_pred)\n",
        "recall_lr = recall_score(y_test, logistic_reg_pred)\n",
        "f1_lr = f1_score(y_test, logistic_reg_pred)\n",
        "\n",
        "# Step 4: Display Results with Four Decimal Places\n",
        "print(\"Logistic Regression:\")\n",
        "print(f\"Accuracy  : {accuracy_lr:.4f}\")\n",
        "print(f\"Precision : {precision_lr:.4f}\")\n",
        "print(f\"Recall    : {recall_lr:.4f}\")\n",
        "print(f\"F1 Score  : {f1_lr:.4f}\")\n"
      ],
      "metadata": {
        "colab": {
          "base_uri": "https://localhost:8080/"
        },
        "id": "IuUEE0OPdH5s",
        "outputId": "ee117205-fca6-43fc-bcd8-c162293f96be"
      },
      "execution_count": null,
      "outputs": [
        {
          "output_type": "stream",
          "name": "stdout",
          "text": [
            "Logistic Regression:\n",
            "Accuracy  : 0.9167\n",
            "Precision : 0.5000\n",
            "Recall    : 0.0500\n",
            "F1 Score  : 0.0909\n"
          ]
        }
      ]
    },
    {
      "cell_type": "markdown",
      "source": [
        "## **Model Training and Evaluation**\n",
        "\n",
        "### **Data Preprocessing**\n",
        "\n",
        "Our first step involved standardizing both the training and testing data using the StandardScaler from Scikit-Learn. Standardization ensures that our features have a mean of 0 and a standard deviation of 1, which is essential for the optimal performance of our machine learning model.\n",
        "\n",
        "#### **Standardization of Training Data**\n",
        "\n",
        "To ensure proper scaling based on the training data's statistics, we applied the StandardScaler to our training features (X_train) using the `fit_transform` method.\n",
        "\n",
        "#### **Standardization of Testing Data**\n",
        "\n",
        "To maintain consistency in our preprocessing, we used the same StandardScaler instance to transform our testing features (X_test) with the `transform` method.\n",
        "\n",
        "### **Model Training**\n",
        "\n",
        "Our model choice for this task was Logistic Regression, a reliable algorithm for capturing relationships within the data.\n",
        "\n",
        "#### **Training the Logistic Regression Model**\n",
        "\n",
        "We trained the Logistic Regression model on the standardized training data (X_train and y_train) to capture essential patterns within the data.\n",
        "\n",
        "### **Model Evaluation**\n",
        "\n",
        "We conducted a thorough evaluation of the Logistic Regression model's performance, utilizing standard classification metrics:\n",
        "\n",
        "- **Accuracy Score:** Approximately 91.67%\n",
        "- **Precision Score:** 50.00%\n",
        "- **Recall Score:** Approximately 5.00%\n",
        "- **F1 Score:** Approximately  9.09%\n"
      ],
      "metadata": {
        "id": "kDCT8Rep2SQk"
      }
    },
    {
      "cell_type": "markdown",
      "source": [
        "# **K-Nearest Neighbors (KNN) Classifier :**"
      ],
      "metadata": {
        "id": "tkVD6pvJY-I0"
      }
    },
    {
      "cell_type": "code",
      "source": [
        "from sklearn.neighbors import KNeighborsClassifier\n",
        "\n",
        "# Step 1: Data Preprocessing - Standardization\n",
        "scaler = StandardScaler()\n",
        "\n",
        "# Standardize the training data\n",
        "X_train = scaler.fit_transform(X_train)\n",
        "\n",
        "# Standardize the testing data using the same scaler\n",
        "X_test = scaler.transform(X_test)\n",
        "\n",
        "# Step 2: Model Training - K-Nearest Neighbors (KNN) Classifier\n",
        "knn = KNeighborsClassifier()\n",
        "\n",
        "# Train the KNN Classifier on the standardized training data\n",
        "knn.fit(X_train, y_train)\n",
        "\n",
        "# Step 3: Model Evaluation\n",
        "# Make predictions on the standardized testing data\n",
        "y_pred_knn = knn.predict(X_test)\n",
        "\n",
        "# Calculate classification metrics\n",
        "accuracy_knn = accuracy_score(y_test, y_pred_knn)\n",
        "precision_knn = precision_score(y_test, y_pred_knn)\n",
        "recall_knn = recall_score(y_test, y_pred_knn)\n",
        "f1_knn = f1_score(y_test, y_pred_knn)\n",
        "\n",
        "# Step 4: Display Results with Four Decimal Places\n",
        "print(\"K-Nearest Neighbors (KNN) Classifier:\")\n",
        "print(f\"Accuracy  : {accuracy_knn:.4f}\")\n",
        "print(f\"Precision : {precision_knn:.4f}\")\n",
        "print(f\"Recall    : {recall_knn:.4f}\")\n",
        "print(f\"F1 Score  : {f1_knn:.4f}\")\n"
      ],
      "metadata": {
        "id": "--lWdZFNdIgk",
        "colab": {
          "base_uri": "https://localhost:8080/"
        },
        "outputId": "e2b1d12a-cedd-4ea9-b6e7-ae2602e1124b"
      },
      "execution_count": null,
      "outputs": [
        {
          "output_type": "stream",
          "name": "stdout",
          "text": [
            "K-Nearest Neighbors (KNN) Classifier:\n",
            "Accuracy  : 0.9083\n",
            "Precision : 0.3333\n",
            "Recall    : 0.1000\n",
            "F1 Score  : 0.1538\n"
          ]
        }
      ]
    },
    {
      "cell_type": "markdown",
      "source": [
        "## **Model Training and Evaluation**\n",
        "\n",
        "### **Data Preprocessing**\n",
        "\n",
        "Our initial step involved standardizing both the training and testing data using the StandardScaler from Scikit-Learn. Standardization ensures that our features possess a mean of 0 and a standard deviation of 1, a crucial prerequisite for the optimal performance of our machine learning model.\n",
        "\n",
        "#### **Standardization of Training Data**\n",
        "\n",
        "To ensure appropriate scaling based on the training data's statistics, we applied the StandardScaler to our training features (X_train) using the `fit_transform` method.\n",
        "\n",
        "#### **Standardization of Testing Data**\n",
        "\n",
        "In order to maintain consistency in our preprocessing, we consistently utilized the same StandardScaler instance to transform our testing features (X_test) with the `transform` method.\n",
        "\n",
        "### **Model Training**\n",
        "\n",
        "We initiated the training phase by initializing a K-Nearest Neighbors (KNN) Classifier, a powerful algorithm used for classification tasks.\n",
        "\n",
        "#### **Training the K-Nearest Neighbors (KNN) Classifier**\n",
        "\n",
        "Our next step encompassed training the K-Nearest Neighbors (KNN) Classifier using the standardized training data (X_train and y_train).\n",
        "\n",
        "### **Model Evaluation**\n",
        "\n",
        "We conducted a thorough assessment of the K-Nearest Neighbors (KNN) Classifier's performance using a comprehensive set of standard classification metrics:\n",
        "\n",
        "- **Accuracy Score:** Approximately 90.83%\n",
        "- **Precision Score:** Approximately 33.33%\n",
        "- **Recall Score:** Approximately 10.00%\n",
        "- **F1 Score:** Approximately 15.38%\n"
      ],
      "metadata": {
        "id": "hpJw0_vo7CSr"
      }
    },
    {
      "cell_type": "markdown",
      "source": [
        "# **Decision Tree Classifier :**"
      ],
      "metadata": {
        "id": "mJVE8UDZZD4k"
      }
    },
    {
      "cell_type": "code",
      "source": [
        "from sklearn.tree import DecisionTreeClassifier\n",
        "\n",
        "# Step 1: Data Preprocessing - Standardization\n",
        "scaler = StandardScaler()\n",
        "\n",
        "# Standardize the training data\n",
        "X_train = scaler.fit_transform(X_train)\n",
        "\n",
        "# Standardize the testing data using the same scaler\n",
        "X_test = scaler.transform(X_test)\n",
        "\n",
        "# Step 2: Model Training - Decision Tree Classifier\n",
        "dt = DecisionTreeClassifier()\n",
        "\n",
        "# Train the Decision Tree Classifier on the standardized training data\n",
        "dt.fit(X_train, y_train)\n",
        "\n",
        "# Step 3: Model Evaluation\n",
        "# Make predictions on the standardized testing data\n",
        "y_pred_dt = dt.predict(X_test)\n",
        "\n",
        "# Calculate classification metrics\n",
        "accuracy_dt = accuracy_score(y_test, y_pred_dt)\n",
        "precision_dt = precision_score(y_test, y_pred_dt)\n",
        "recall_dt = recall_score(y_test, y_pred_dt)\n",
        "f1_dt = f1_score(y_test, y_pred_dt)\n",
        "\n",
        "# Step 4: Display Results with Four Decimal Places\n",
        "print(\"Decision Tree Classifier:\")\n",
        "print(f\"Accuracy  : {accuracy_dt:.4f}\")\n",
        "print(f\"Precision : {precision_dt:.4f}\")\n",
        "print(f\"Recall    : {recall_dt:.4f}\")\n",
        "print(f\"F1 Score  : {f1_dt:.4f}\")\n"
      ],
      "metadata": {
        "id": "Hfqr8cvJdIba",
        "colab": {
          "base_uri": "https://localhost:8080/"
        },
        "outputId": "4595bfb8-4ccf-4013-d88f-78f6aba28b34"
      },
      "execution_count": null,
      "outputs": [
        {
          "output_type": "stream",
          "name": "stdout",
          "text": [
            "Decision Tree Classifier:\n",
            "Accuracy  : 0.8417\n",
            "Precision : 0.2500\n",
            "Recall    : 0.4500\n",
            "F1 Score  : 0.3214\n"
          ]
        }
      ]
    },
    {
      "cell_type": "markdown",
      "source": [
        "## **Model Training and Evaluation**\n",
        "\n",
        "### **Data Preprocessing**\n",
        "\n",
        "Our initial step involved standardizing both the training and testing data using the StandardScaler from Scikit-Learn. Standardization ensures that our features possess a mean of 0 and a standard deviation of 1, a crucial prerequisite for the optimal performance of our machine learning model.\n",
        "\n",
        "#### **Standardization of Training Data**\n",
        "\n",
        "To ensure appropriate scaling based on the training data's statistics, we applied the StandardScaler to our training features (X_train) using the `fit_transform` method.\n",
        "\n",
        "#### **Standardization of Testing Data**\n",
        "\n",
        "In order to maintain consistency in our preprocessing, we consistently utilized the same StandardScaler instance to transform our testing features (X_test) with the `transform` method.\n",
        "\n",
        "### **Model Training**\n",
        "\n",
        "We initiated the training phase by initializing a Decision Tree Classifier, a powerful algorithm used for classification tasks.\n",
        "\n",
        "#### **Training the Decision Tree Classifier**\n",
        "\n",
        "Our next step encompassed training the Decision Tree Classifier using the standardized training data (X_train and y_train).\n",
        "\n",
        "### **Model Evaluation**\n",
        "\n",
        "We conducted a thorough assessment of the Decision Tree Classifier's performance using a comprehensive set of standard classification metrics:\n",
        "\n",
        "- **Accuracy Score:** Approximately 84.17%\n",
        "- **Precision Score:** Approximately 25.00%\n",
        "- **Recall Score:** Approximately 45.00%\n",
        "- **F1 Score:** Approximately 32.14%\n"
      ],
      "metadata": {
        "id": "6H4lM5Fa7i_r"
      }
    },
    {
      "cell_type": "markdown",
      "source": [
        "### **Model Comparison:**"
      ],
      "metadata": {
        "id": "YBE8QZehFBXk"
      }
    },
    {
      "cell_type": "code",
      "source": [
        "# Import the necessary libraries\n",
        "from tabulate import tabulate\n",
        "import pandas as pd\n",
        "\n",
        "# Define data with performance metrics for different machine learning models\n",
        "data = {\n",
        "    'Model': ['Random Forest', 'XGB', 'Logistic Regression', 'KNeighbors', 'Decision Tree'],\n",
        "    'Accuracy': [accuracy_random_forest, accuracy_xgboost, accuracy_lr, accuracy_knn, accuracy_dt],\n",
        "    'Precision': [precision_random_forest, precision_xgboost, precision_lr, precision_knn, precision_dt],\n",
        "    'Recall': [recall_random_forest, recall_xgboost, recall_lr, recall_knn, recall_dt],\n",
        "    'F1 Score': [f1_random_forest, f1_xgboost, f1_lr, f1_knn, f1_dt]\n",
        "}\n",
        "\n",
        "# Create a DataFrame from the data\n",
        "df = pd.DataFrame(data)\n",
        "\n",
        "# Format the DataFrame to display values with two decimal places\n",
        "df = df.round(4)\n",
        "\n",
        "# Generating a formatted table using the tabulate function with column alignments\n",
        "# - 'headers' specifies that the first row should be treated as headers.\n",
        "# - 'pipe' specifies the table format using pipes (|) as separators.\n",
        "table = tabulate(df, headers='keys', tablefmt='pipe', numalign=\"right\", stralign=\"left\", floatfmt=(\".4f\", \".4f\", \".4f\", \".4f\", \".4f\"))\n",
        "\n",
        "# Print the formatted table\n",
        "print(table)\n"
      ],
      "metadata": {
        "colab": {
          "base_uri": "https://localhost:8080/"
        },
        "id": "boFZIHCQsSD2",
        "outputId": "8efbaaf6-5fa9-4fd5-91a3-eb1487b81984"
      },
      "execution_count": null,
      "outputs": [
        {
          "output_type": "stream",
          "name": "stdout",
          "text": [
            "|    | Model               |   Accuracy |   Precision |   Recall |   F1 Score |\n",
            "|---:|:--------------------|-----------:|------------:|---------:|-----------:|\n",
            "|  0 | Random Forest       |     0.9208 |      0.5385 |   0.3500 |     0.4242 |\n",
            "|  1 | XGB                 |     0.8917 |      0.3500 |   0.3500 |       0.35 |\n",
            "|  2 | Logistic Regression |     0.9167 |      0.5000 |   0.0500 |     0.0909 |\n",
            "|  3 | KNeighbors          |     0.9083 |      0.3333 |   0.1000 |     0.1538 |\n",
            "|  4 | Decision Tree       |     0.8417 |      0.2500 |   0.4500 |     0.3214 |\n"
          ]
        }
      ]
    },
    {
      "cell_type": "markdown",
      "source": [
        "### **Comparison with Visualization:**"
      ],
      "metadata": {
        "id": "GaVYG2trFG1R"
      }
    },
    {
      "cell_type": "code",
      "source": [
        "# Define data with performance metrics for different machine learning models\n",
        "data = {\n",
        "    'Model': ['Random Forest Classifier', 'XGB Classifier', 'Logistic Regression', 'KNeighbors Classifier', 'Decision Tree Classifier'],\n",
        "    'Accuracy': [accuracy_random_forest, accuracy_xgboost, accuracy_lr, accuracy_knn, accuracy_dt],\n",
        "    'Precision': [precision_random_forest, precision_xgboost, precision_lr, precision_knn, precision_dt],\n",
        "    'Recall': [recall_random_forest, recall_xgboost, recall_lr, recall_knn, recall_dt],\n",
        "    'F1 Score': [f1_random_forest, f1_xgboost, f1_lr, f1_knn, f1_dt]\n",
        "}\n",
        "\n",
        "# Set the plotting style to whitegrid\n",
        "sns.set(style=\"whitegrid\")\n",
        "\n",
        "# Melt the DataFrame to reshape the data for plotting\n",
        "df_melted = df.melt(id_vars=['Model'], var_name='Metric', value_name='Score')\n",
        "\n",
        "# Create a figure and set its size\n",
        "plt.figure(figsize=(12, 8))\n",
        "\n",
        "# Creating bar plot using Seaborn\n",
        "sns.barplot(x='Model', y='Score', hue='Metric', data=df_melted)\n",
        "\n",
        "# Set the x-axis label, y-axis label, and plot title\n",
        "plt.xlabel('Model')\n",
        "plt.ylabel('Score')\n",
        "plt.title('Comparison of Evaluation Metrics for Different Models')\n",
        "\n",
        "# Rotate the x-axis labels for better readability\n",
        "plt.xticks(rotation=45, ha='right')\n",
        "\n",
        "# Show the legend\n",
        "plt.legend()\n",
        "\n",
        "# Ensure the plot layout is tight\n",
        "plt.tight_layout()\n",
        "\n",
        "# Display the plot\n",
        "plt.show()"
      ],
      "metadata": {
        "colab": {
          "base_uri": "https://localhost:8080/",
          "height": 801
        },
        "id": "JIevdwIEucWF",
        "outputId": "0daf6038-5f08-4cf7-cd83-eba634aaceb0"
      },
      "execution_count": null,
      "outputs": [
        {
          "output_type": "display_data",
          "data": {
            "text/plain": [
              "<Figure size 1200x800 with 1 Axes>"
            ],
            "image/png": "[encoded data removed]"
          },
          "metadata": {}
        }
      ]
    },
    {
      "cell_type": "markdown",
      "source": [
        "## **Final Model Selection:**"
      ],
      "metadata": {
        "id": "iHlU07EWFQCL"
      }
    },
    {
      "cell_type": "markdown",
      "source": [
        "## **Model Selection: Credit Card Approval**\n",
        "\n",
        "\n",
        "### **Summary:**\n",
        "\n",
        "**Exploratory Data Analysis (EDA):**\n",
        "\n",
        "We began by conducting an Exploratory Data Analysis (EDA) to gain insights into the dataset. We visualized various aspects of annual income based on factors such as gender, car ownership, property ownership, income type, education level, and marital status. These visualizations provided valuable insights into the distribution and characteristics of the data.\n",
        "\n",
        "**Data Preprocessing:**\n",
        "\n",
        "In the data preprocessing phase, we performed the following tasks:\n",
        "\n",
        "Identified and handled null values in the dataset to ensure data completeness.\n",
        "Applied appropriate data transformations to prepare the data for modeling.\n",
        "Conducted feature selection to choose the most relevant variables.\n",
        "Converted categorical variables into numerical values to make them compatible with machine learning algorithms.\n",
        "Applied log transformation to normalize the data and address skewness.\n",
        "Removed outliers to enhance the robustness of the models.\n",
        "\n",
        "**Modeling:**\n",
        "\n",
        "We split the data into training and testing sets to facilitate model training and evaluation. We employed various machine learning models, including the Random Forest Classifier, XGB Classifier, Logistic Regression, KNeighbors Classifier, and Decision Tree Classifier, to predict credit card approvals. The models were trained and evaluated using appropriate performance metrics.\n",
        "\n",
        "## Model Comparison\n",
        "\n",
        "We compared the following machine learning models:\n",
        "\n",
        "1. **Random Forest Classifier:**\n",
        "- Accuracy: 92.08%\n",
        "- Precision: 53.85%\n",
        "- Recall: 35.00%\n",
        "- F1 Score: 42.42%\n",
        "\n",
        "2. **XGB Classifier:**\n",
        "- Accuracy: 89.17%\n",
        "- Precision: 35.00%\n",
        "- Recall: 35.00%\n",
        "- F1 Score: 35.00%\n",
        "\n",
        "3. **Logistic Regression:**\n",
        "- Accuracy: 91.67%\n",
        "- Precision: 50.00%\n",
        "- Recall: 5.00%\n",
        "- F1 Score: 9.09%\n",
        "\n",
        "4. **K-Nearest Neighbors (KNN) Classifier:**\n",
        "- Accuracy: 90.83%\n",
        "- Precision: 33.33%\n",
        "- Recall: 10.00%\n",
        "- F1 Score: 15.38%\n",
        "\n",
        "5. **Decision Tree Classifier:**\n",
        "- Accuracy: 84.17%\n",
        "- Precision: 25.00%\n",
        "- Recall: 45.00%\n",
        "- F1 Score: 32.14%\n",
        "\n",
        "## Insights and Recommendations\n",
        "\n",
        "Based on the model comparisons and the specific requirements of the Credit Card Approval task, we recommend the following:\n",
        "\n",
        "**Recommendation:**\n",
        "\n",
        "- The **Random Forest Classifier** is the recommended choice for Credit Card Approval. It offers the highest accuracy, balanced precision and recall, and the highest F1 score among the models.\n",
        "\n",
        "**Reasoning:**\n",
        "\n",
        "- **High Accuracy:** The Random Forest Classifier demonstrates the highest accuracy, indicating its ability to make accurate predictions for credit card approval.\n",
        "\n",
        "- **Balanced Precision and Recall:** It strikes a balance between precision and recall, ensuring that the model makes accurate predictions while identifying a significant portion of positive cases to minimize the risk of false negatives.\n",
        "\n",
        "- **F1 Score:** The F1 score, a combination of precision and recall, is also the highest for the Random Forest Classifier, further highlighting its balanced performance.\n",
        "\n",
        "- **Robustness:** Random Forests are known for their robustness and resistance to overfitting, making them a reliable choice for classification tasks.\n",
        "\n",
        "- **Ensemble Learning:** Random Forests use ensemble learning, which combines multiple decision trees' predictions, reducing the risk of individual decision trees making errors.\n",
        "\n",
        "- **Versatility:** Random Forests can handle both categorical and numerical features, making them versatile for different types of data.\n",
        "\n",
        "#### **Why Not Selecting Other Models Over Random Forest (RF):**\n",
        "While the Random Forest Classifier stands out as the recommended choice, we should also consider why other models are not chosen:\n",
        "\n",
        "1. **XGB Classifier:**\n",
        "\n",
        "* Accuracy (89.17%): While the XGB Classifier demonstrates respectable accuracy, it falls slightly behind the Random Forest Classifier (92.08%). In a critical task like Credit Card Approval, a higher level of accuracy is preferred to ensure precise decisions.\n",
        "\n",
        "* F1 Score (35.00%): The F1 score of the XGB Classifier is also lower compared to the Random Forest (42.42%). The F1 score combines precision and recall, and a higher F1 score indicates a better balance between accurately identifying positive cases and minimizing false negatives.\n",
        "\n",
        "* Precision (35.00%) and Recall (35.00%): The precision and recall of the XGB Classifier are equal but lower than those of the Random Forest. A critical aspect of credit card approval is to minimize both false positives and false negatives. The Random Forest provides a better trade-off between these two factors.\n",
        "\n",
        "2. **Logistic Regression:**\n",
        "\n",
        "* Recall (5.00%): Logistic Regression exhibits a very low recall, suggesting that it might miss a significant number of positive cases. In the context of credit card approval, where minimizing false negatives is crucial, such low recall is a limitation.\n",
        "\n",
        "* F1 Score (9.09%): The F1 score of Logistic Regression is also considerably lower compared to the Random Forest (42.42%). This indicates that it doesn't achieve a well-balanced combination of precision and recall, which is essential for this task.\n",
        "\n",
        "3. **K-Nearest Neighbors (KNN) Classifier:**\n",
        "\n",
        "* Precision (33.33%) and Recall (10.00%): The KNN model's precision and recall are both considerably lower than those of the Random Forest. These metrics indicate that the KNN model may not be suitable for this specific task without further optimization.\n",
        "\n",
        "* F1 Score (15.38%): The F1 score, which combines precision and recall, is significantly lower for KNN compared to the Random Forest (42.42%). This demonstrates that KNN lacks the balance needed for effective credit card approval predictions.\n",
        "\n",
        "4. **Decision Tree Classifier:**\n",
        "\n",
        "* Precision (25.00%): The Decision Tree Classifier's precision is lower compared to the Random Forest, suggesting a higher likelihood of false positives.\n",
        "\n",
        "* Recall (45.00%): While the recall is higher than some other models, it doesn't achieve the same balance between precision and recall as the Random Forest.\n",
        "\n",
        "* F1 Score (32.14%): The F1 score, although respectable, is still lower compared to the Random Forest's F1 score (42.42%). The Random Forest provides a better trade-off between precision and recall.\n",
        "\n",
        "## **Conclusion:**\n",
        "\n",
        "Based on our analysis, the **Random Forest Classifier** stands out as the top choice due to its high accuracy, balanced precision and recall, and robustness."
      ],
      "metadata": {
        "id": "CR1VSiYN_vlr"
      }
    },
    {
      "cell_type": "markdown",
      "source": [
        "# **SQL:**\n",
        "\n"
      ],
      "metadata": {
        "id": "cd-5ZOOZAhYL"
      }
    },
    {
      "cell_type": "code",
      "source": [
        "Sql_Credit_Card_Approved"
      ],
      "metadata": {
        "colab": {
          "base_uri": "https://localhost:8080/",
          "height": 756
        },
        "id": "ETqGz60WGGB_",
        "outputId": "f26c08dc-5852-4b0f-d0e4-1144937550cf"
      },
      "execution_count": null,
      "outputs": [
        {
          "output_type": "execute_result",
          "data": {
            "text/plain": [
              "       Ind_ID GENDER Car_Owner Propert_Owner  CHILDREN  Annual_income  \\\n",
              "1     5009744      F         Y             N         0       315000.0   \n",
              "4     5009752      F         Y             N         0       315000.0   \n",
              "6     5009754      F         Y             N         0       315000.0   \n",
              "8     5010864      M         Y             Y         1       450000.0   \n",
              "9     5010868      M         Y             Y         1       450000.0   \n",
              "...       ...    ...       ...           ...       ...            ...   \n",
              "1542  5118268      M         Y             N         1       360000.0   \n",
              "1544  5023655      F         N             N         0       225000.0   \n",
              "1545  5115992      M         Y             Y         2       180000.0   \n",
              "1546  5118219      M         Y             N         0       270000.0   \n",
              "1547  5053790      F         Y             Y         0       225000.0   \n",
              "\n",
              "               Type_Income                      EDUCATION  \\\n",
              "1     Commercial associate               Higher education   \n",
              "4     Commercial associate               Higher education   \n",
              "6     Commercial associate               Higher education   \n",
              "8     Commercial associate  Secondary / secondary special   \n",
              "9                Pensioner  Secondary / secondary special   \n",
              "...                    ...                            ...   \n",
              "1542         State servant  Secondary / secondary special   \n",
              "1544  Commercial associate              Incomplete higher   \n",
              "1545               Working               Higher education   \n",
              "1546               Working  Secondary / secondary special   \n",
              "1547               Working               Higher education   \n",
              "\n",
              "            Marital_status       Housing_type  Family_Members  label   Age  \\\n",
              "1                  Married  House / apartment               2      1  37.0   \n",
              "4                  Married  House / apartment               2      1  37.0   \n",
              "6                  Married  House / apartment               2      1  37.0   \n",
              "8                  Married  House / apartment               3      1  49.0   \n",
              "9                  Married  House / apartment               3      1  49.0   \n",
              "...                    ...                ...             ...    ...   ...   \n",
              "1542               Married  House / apartment               3      0  30.0   \n",
              "1544  Single / not married  House / apartment               1      0  28.0   \n",
              "1545               Married  House / apartment               4      0  36.0   \n",
              "1546        Civil marriage  House / apartment               2      0  41.0   \n",
              "1547               Married  House / apartment               2      0  45.0   \n",
              "\n",
              "      Employment_Status  \n",
              "1                     1  \n",
              "4                     1  \n",
              "6                     1  \n",
              "8                     1  \n",
              "9                     1  \n",
              "...                 ...  \n",
              "1542                  1  \n",
              "1544                  1  \n",
              "1545                  1  \n",
              "1546                  1  \n",
              "1547                  1  \n",
              "\n",
              "[1244 rows x 14 columns]"
            ],
            "text/html": [
              "\n",
              "  <div id=\"df-3a69d3cc-b315-4f0b-909b-e35533eafea8\" class=\"colab-df-container\">\n",
              "    <div>\n",
              "<style scoped>\n",
              "    .dataframe tbody tr th:only-of-type {\n",
              "        vertical-align: middle;\n",
              "    }\n",
              "\n",
              "    .dataframe tbody tr th {\n",
              "        vertical-align: top;\n",
              "    }\n",
              "\n",
              "    .dataframe thead th {\n",
              "        text-align: right;\n",
              "    }\n",
              "</style>\n",
              "<table border=\"1\" class=\"dataframe\">\n",
              "  <thead>\n",
              "    <tr style=\"text-align: right;\">\n",
              "      <th></th>\n",
              "      <th>Ind_ID</th>\n",
              "      <th>GENDER</th>\n",
              "      <th>Car_Owner</th>\n",
              "      <th>Propert_Owner</th>\n",
              "      <th>CHILDREN</th>\n",
              "      <th>Annual_income</th>\n",
              "      <th>Type_Income</th>\n",
              "      <th>EDUCATION</th>\n",
              "      <th>Marital_status</th>\n",
              "      <th>Housing_type</th>\n",
              "      <th>Family_Members</th>\n",
              "      <th>label</th>\n",
              "      <th>Age</th>\n",
              "      <th>Employment_Status</th>\n",
              "    </tr>\n",
              "  </thead>\n",
              "  <tbody>\n",
              "    <tr>\n",
              "      <th>1</th>\n",
              "      <td>5009744</td>\n",
              "      <td>F</td>\n",
              "      <td>Y</td>\n",
              "      <td>N</td>\n",
              "      <td>0</td>\n",
              "      <td>315000.0</td>\n",
              "      <td>Commercial associate</td>\n",
              "      <td>Higher education</td>\n",
              "      <td>Married</td>\n",
              "      <td>House / apartment</td>\n",
              "      <td>2</td>\n",
              "      <td>1</td>\n",
              "      <td>37.0</td>\n",
              "      <td>1</td>\n",
              "    </tr>\n",
              "    <tr>\n",
              "      <th>4</th>\n",
              "      <td>5009752</td>\n",
              "      <td>F</td>\n",
              "      <td>Y</td>\n",
              "      <td>N</td>\n",
              "      <td>0</td>\n",
              "      <td>315000.0</td>\n",
              "      <td>Commercial associate</td>\n",
              "      <td>Higher education</td>\n",
              "      <td>Married</td>\n",
              "      <td>House / apartment</td>\n",
              "      <td>2</td>\n",
              "      <td>1</td>\n",
              "      <td>37.0</td>\n",
              "      <td>1</td>\n",
              "    </tr>\n",
              "    <tr>\n",
              "      <th>6</th>\n",
              "      <td>5009754</td>\n",
              "      <td>F</td>\n",
              "      <td>Y</td>\n",
              "      <td>N</td>\n",
              "      <td>0</td>\n",
              "      <td>315000.0</td>\n",
              "      <td>Commercial associate</td>\n",
              "      <td>Higher education</td>\n",
              "      <td>Married</td>\n",
              "      <td>House / apartment</td>\n",
              "      <td>2</td>\n",
              "      <td>1</td>\n",
              "      <td>37.0</td>\n",
              "      <td>1</td>\n",
              "    </tr>\n",
              "    <tr>\n",
              "      <th>8</th>\n",
              "      <td>5010864</td>\n",
              "      <td>M</td>\n",
              "      <td>Y</td>\n",
              "      <td>Y</td>\n",
              "      <td>1</td>\n",
              "      <td>450000.0</td>\n",
              "      <td>Commercial associate</td>\n",
              "      <td>Secondary / secondary special</td>\n",
              "      <td>Married</td>\n",
              "      <td>House / apartment</td>\n",
              "      <td>3</td>\n",
              "      <td>1</td>\n",
              "      <td>49.0</td>\n",
              "      <td>1</td>\n",
              "    </tr>\n",
              "    <tr>\n",
              "      <th>9</th>\n",
              "      <td>5010868</td>\n",
              "      <td>M</td>\n",
              "      <td>Y</td>\n",
              "      <td>Y</td>\n",
              "      <td>1</td>\n",
              "      <td>450000.0</td>\n",
              "      <td>Pensioner</td>\n",
              "      <td>Secondary / secondary special</td>\n",
              "      <td>Married</td>\n",
              "      <td>House / apartment</td>\n",
              "      <td>3</td>\n",
              "      <td>1</td>\n",
              "      <td>49.0</td>\n",
              "      <td>1</td>\n",
              "    </tr>\n",
              "    <tr>\n",
              "      <th>...</th>\n",
              "      <td>...</td>\n",
              "      <td>...</td>\n",
              "      <td>...</td>\n",
              "      <td>...</td>\n",
              "      <td>...</td>\n",
              "      <td>...</td>\n",
              "      <td>...</td>\n",
              "      <td>...</td>\n",
              "      <td>...</td>\n",
              "      <td>...</td>\n",
              "      <td>...</td>\n",
              "      <td>...</td>\n",
              "      <td>...</td>\n",
              "      <td>...</td>\n",
              "    </tr>\n",
              "    <tr>\n",
              "      <th>1542</th>\n",
              "      <td>5118268</td>\n",
              "      <td>M</td>\n",
              "      <td>Y</td>\n",
              "      <td>N</td>\n",
              "      <td>1</td>\n",
              "      <td>360000.0</td>\n",
              "      <td>State servant</td>\n",
              "      <td>Secondary / secondary special</td>\n",
              "      <td>Married</td>\n",
              "      <td>House / apartment</td>\n",
              "      <td>3</td>\n",
              "      <td>0</td>\n",
              "      <td>30.0</td>\n",
              "      <td>1</td>\n",
              "    </tr>\n",
              "    <tr>\n",
              "      <th>1544</th>\n",
              "      <td>5023655</td>\n",
              "      <td>F</td>\n",
              "      <td>N</td>\n",
              "      <td>N</td>\n",
              "      <td>0</td>\n",
              "      <td>225000.0</td>\n",
              "      <td>Commercial associate</td>\n",
              "      <td>Incomplete higher</td>\n",
              "      <td>Single / not married</td>\n",
              "      <td>House / apartment</td>\n",
              "      <td>1</td>\n",
              "      <td>0</td>\n",
              "      <td>28.0</td>\n",
              "      <td>1</td>\n",
              "    </tr>\n",
              "    <tr>\n",
              "      <th>1545</th>\n",
              "      <td>5115992</td>\n",
              "      <td>M</td>\n",
              "      <td>Y</td>\n",
              "      <td>Y</td>\n",
              "      <td>2</td>\n",
              "      <td>180000.0</td>\n",
              "      <td>Working</td>\n",
              "      <td>Higher education</td>\n",
              "      <td>Married</td>\n",
              "      <td>House / apartment</td>\n",
              "      <td>4</td>\n",
              "      <td>0</td>\n",
              "      <td>36.0</td>\n",
              "      <td>1</td>\n",
              "    </tr>\n",
              "    <tr>\n",
              "      <th>1546</th>\n",
              "      <td>5118219</td>\n",
              "      <td>M</td>\n",
              "      <td>Y</td>\n",
              "      <td>N</td>\n",
              "      <td>0</td>\n",
              "      <td>270000.0</td>\n",
              "      <td>Working</td>\n",
              "      <td>Secondary / secondary special</td>\n",
              "      <td>Civil marriage</td>\n",
              "      <td>House / apartment</td>\n",
              "      <td>2</td>\n",
              "      <td>0</td>\n",
              "      <td>41.0</td>\n",
              "      <td>1</td>\n",
              "    </tr>\n",
              "    <tr>\n",
              "      <th>1547</th>\n",
              "      <td>5053790</td>\n",
              "      <td>F</td>\n",
              "      <td>Y</td>\n",
              "      <td>Y</td>\n",
              "      <td>0</td>\n",
              "      <td>225000.0</td>\n",
              "      <td>Working</td>\n",
              "      <td>Higher education</td>\n",
              "      <td>Married</td>\n",
              "      <td>House / apartment</td>\n",
              "      <td>2</td>\n",
              "      <td>0</td>\n",
              "      <td>45.0</td>\n",
              "      <td>1</td>\n",
              "    </tr>\n",
              "  </tbody>\n",
              "</table>\n",
              "<p>1244 rows × 14 columns</p>\n",
              "</div>\n",
              "    <div class=\"colab-df-buttons\">\n",
              "\n",
              "  <div class=\"colab-df-container\">\n",
              "    <button class=\"colab-df-convert\" onclick=\"convertToInteractive('df-3a69d3cc-b315-4f0b-909b-e35533eafea8')\"\n",
              "            title=\"Convert this dataframe to an interactive table.\"\n",
              "            style=\"display:none;\">\n",
              "\n",
              "  <svg xmlns=\"http://www.w3.org/2000/svg\" height=\"24px\" viewBox=\"0 -960 960 960\">\n",
              "    <path d=\"M120-120v-720h720v720H120Zm60-500h600v-160H180v160Zm220 220h160v-160H400v160Zm0 220h160v-160H400v160ZM180-400h160v-160H180v160Zm440 0h160v-160H620v160ZM180-180h160v-160H180v160Zm440 0h160v-160H620v160Z\"/>\n",
              "  </svg>\n",
              "    </button>\n",
              "\n",
              "  <style>\n",
              "    .colab-df-container {\n",
              "      display:flex;\n",
              "      gap: 12px;\n",
              "    }\n",
              "\n",
              "    .colab-df-convert {\n",
              "      background-color: #E8F0FE;\n",
              "      border: none;\n",
              "      border-radius: 50%;\n",
              "      cursor: pointer;\n",
              "      display: none;\n",
              "      fill: #1967D2;\n",
              "      height: 32px;\n",
              "      padding: 0 0 0 0;\n",
              "      width: 32px;\n",
              "    }\n",
              "\n",
              "    .colab-df-convert:hover {\n",
              "      background-color: #E2EBFA;\n",
              "      box-shadow: 0px 1px 2px rgba(60, 64, 67, 0.3), 0px 1px 3px 1px rgba(60, 64, 67, 0.15);\n",
              "      fill: #174EA6;\n",
              "    }\n",
              "\n",
              "    .colab-df-buttons div {\n",
              "      margin-bottom: 4px;\n",
              "    }\n",
              "\n",
              "    [theme=dark] .colab-df-convert {\n",
              "      background-color: #3B4455;\n",
              "      fill: #D2E3FC;\n",
              "    }\n",
              "\n",
              "    [theme=dark] .colab-df-convert:hover {\n",
              "      background-color: #434B5C;\n",
              "      box-shadow: 0px 1px 3px 1px rgba(0, 0, 0, 0.15);\n",
              "      filter: drop-shadow(0px 1px 2px rgba(0, 0, 0, 0.3));\n",
              "      fill: #FFFFFF;\n",
              "    }\n",
              "  </style>\n",
              "\n",
              "    <script>\n",
              "      const buttonEl =\n",
              "        document.querySelector('#df-3a69d3cc-b315-4f0b-909b-e35533eafea8 button.colab-df-convert');\n",
              "      buttonEl.style.display =\n",
              "        google.colab.kernel.accessAllowed ? 'block' : 'none';\n",
              "\n",
              "      async function convertToInteractive(key) {\n",
              "        const element = document.querySelector('#df-3a69d3cc-b315-4f0b-909b-e35533eafea8');\n",
              "        const dataTable =\n",
              "          await google.colab.kernel.invokeFunction('convertToInteractive',\n",
              "                                                    [key], {});\n",
              "        if (!dataTable) return;\n",
              "\n",
              "        const docLinkHtml = 'Like what you see? Visit the ' +\n",
              "          '<a target=\"_blank\" href=https://colab.research.google.com/notebooks/data_table.ipynb>data table notebook</a>'\n",
              "          + ' to learn more about interactive tables.';\n",
              "        element.innerHTML = '';\n",
              "        dataTable['output_type'] = 'display_data';\n",
              "        await google.colab.output.renderOutput(dataTable, element);\n",
              "        const docLink = document.createElement('div');\n",
              "        docLink.innerHTML = docLinkHtml;\n",
              "        element.appendChild(docLink);\n",
              "      }\n",
              "    </script>\n",
              "  </div>\n",
              "\n",
              "\n",
              "<div id=\"df-5ec4c9e8-7b3e-4058-a10b-0e8bf319c94e\">\n",
              "  <button class=\"colab-df-quickchart\" onclick=\"quickchart('df-5ec4c9e8-7b3e-4058-a10b-0e8bf319c94e')\"\n",
              "            title=\"Suggest charts.\"\n",
              "            style=\"display:none;\">\n",
              "\n",
              "<svg xmlns=\"http://www.w3.org/2000/svg\" height=\"24px\"viewBox=\"0 0 24 24\"\n",
              "     width=\"24px\">\n",
              "    <g>\n",
              "        <path d=\"M19 3H5c-1.1 0-2 .9-2 2v14c0 1.1.9 2 2 2h14c1.1 0 2-.9 2-2V5c0-1.1-.9-2-2-2zM9 17H7v-7h2v7zm4 0h-2V7h2v10zm4 0h-2v-4h2v4z\"/>\n",
              "    </g>\n",
              "</svg>\n",
              "  </button>\n",
              "\n",
              "<style>\n",
              "  .colab-df-quickchart {\n",
              "      --bg-color: #E8F0FE;\n",
              "      --fill-color: #1967D2;\n",
              "      --hover-bg-color: #E2EBFA;\n",
              "      --hover-fill-color: #174EA6;\n",
              "      --disabled-fill-color: #AAA;\n",
              "      --disabled-bg-color: #DDD;\n",
              "  }\n",
              "\n",
              "  [theme=dark] .colab-df-quickchart {\n",
              "      --bg-color: #3B4455;\n",
              "      --fill-color: #D2E3FC;\n",
              "      --hover-bg-color: #434B5C;\n",
              "      --hover-fill-color: #FFFFFF;\n",
              "      --disabled-bg-color: #3B4455;\n",
              "      --disabled-fill-color: #666;\n",
              "  }\n",
              "\n",
              "  .colab-df-quickchart {\n",
              "    background-color: var(--bg-color);\n",
              "    border: none;\n",
              "    border-radius: 50%;\n",
              "    cursor: pointer;\n",
              "    display: none;\n",
              "    fill: var(--fill-color);\n",
              "    height: 32px;\n",
              "    padding: 0;\n",
              "    width: 32px;\n",
              "  }\n",
              "\n",
              "  .colab-df-quickchart:hover {\n",
              "    background-color: var(--hover-bg-color);\n",
              "    box-shadow: 0 1px 2px rgba(60, 64, 67, 0.3), 0 1px 3px 1px rgba(60, 64, 67, 0.15);\n",
              "    fill: var(--button-hover-fill-color);\n",
              "  }\n",
              "\n",
              "  .colab-df-quickchart-complete:disabled,\n",
              "  .colab-df-quickchart-complete:disabled:hover {\n",
              "    background-color: var(--disabled-bg-color);\n",
              "    fill: var(--disabled-fill-color);\n",
              "    box-shadow: none;\n",
              "  }\n",
              "\n",
              "  .colab-df-spinner {\n",
              "    border: 2px solid var(--fill-color);\n",
              "    border-color: transparent;\n",
              "    border-bottom-color: var(--fill-color);\n",
              "    animation:\n",
              "      spin 1s steps(1) infinite;\n",
              "  }\n",
              "\n",
              "  @keyframes spin {\n",
              "    0% {\n",
              "      border-color: transparent;\n",
              "      border-bottom-color: var(--fill-color);\n",
              "      border-left-color: var(--fill-color);\n",
              "    }\n",
              "    20% {\n",
              "      border-color: transparent;\n",
              "      border-left-color: var(--fill-color);\n",
              "      border-top-color: var(--fill-color);\n",
              "    }\n",
              "    30% {\n",
              "      border-color: transparent;\n",
              "      border-left-color: var(--fill-color);\n",
              "      border-top-color: var(--fill-color);\n",
              "      border-right-color: var(--fill-color);\n",
              "    }\n",
              "    40% {\n",
              "      border-color: transparent;\n",
              "      border-right-color: var(--fill-color);\n",
              "      border-top-color: var(--fill-color);\n",
              "    }\n",
              "    60% {\n",
              "      border-color: transparent;\n",
              "      border-right-color: var(--fill-color);\n",
              "    }\n",
              "    80% {\n",
              "      border-color: transparent;\n",
              "      border-right-color: var(--fill-color);\n",
              "      border-bottom-color: var(--fill-color);\n",
              "    }\n",
              "    90% {\n",
              "      border-color: transparent;\n",
              "      border-bottom-color: var(--fill-color);\n",
              "    }\n",
              "  }\n",
              "</style>\n",
              "\n",
              "  <script>\n",
              "    async function quickchart(key) {\n",
              "      const quickchartButtonEl =\n",
              "        document.querySelector('#' + key + ' button');\n",
              "      quickchartButtonEl.disabled = true;  // To prevent multiple clicks.\n",
              "      quickchartButtonEl.classList.add('colab-df-spinner');\n",
              "      try {\n",
              "        const charts = await google.colab.kernel.invokeFunction(\n",
              "            'suggestCharts', [key], {});\n",
              "      } catch (error) {\n",
              "        console.error('Error during call to suggestCharts:', error);\n",
              "      }\n",
              "      quickchartButtonEl.classList.remove('colab-df-spinner');\n",
              "      quickchartButtonEl.classList.add('colab-df-quickchart-complete');\n",
              "    }\n",
              "    (() => {\n",
              "      let quickchartButtonEl =\n",
              "        document.querySelector('#df-5ec4c9e8-7b3e-4058-a10b-0e8bf319c94e button');\n",
              "      quickchartButtonEl.style.display =\n",
              "        google.colab.kernel.accessAllowed ? 'block' : 'none';\n",
              "    })();\n",
              "  </script>\n",
              "</div>\n",
              "    </div>\n",
              "  </div>\n"
            ]
          },
          "metadata": {},
          "execution_count": 232
        }
      ]
    },
    {
      "cell_type": "markdown",
      "source": [
        "Note: The dataset mentioned above is being used for our SQL queries (We have used cleaned data for our SQL queries)"
      ],
      "metadata": {
        "id": "p1VtbtOiDDmX"
      }
    },
    {
      "cell_type": "code",
      "source": [
        "# Import necessary libraries\n",
        "import pandas as pd\n",
        "from google.colab import drive\n",
        "\n",
        "# Mount Google Drive to access your files (this will prompt you to authenticate)\n",
        "drive.mount('/content/drive')"
      ],
      "metadata": {
        "colab": {
          "base_uri": "https://localhost:8080/"
        },
        "id": "DM-g06tAkHO8",
        "outputId": "94b3082f-c48d-4891-cc67-f45177a16908"
      },
      "execution_count": null,
      "outputs": [
        {
          "output_type": "stream",
          "name": "stdout",
          "text": [
            "Drive already mounted at /content/drive; to attempt to forcibly remount, call drive.mount(\"/content/drive\", force_remount=True).\n"
          ]
        }
      ]
    },
    {
      "cell_type": "code",
      "source": [
        "import sqlite3\n",
        "\n",
        "def execute_query_on_csv(query):\n",
        "    # Path to the CSV file in your Google Drive\n",
        "    csv_file_path = '/content/drive/MyDrive/Sql_Credit_Card_Approved.csv'\n",
        "\n",
        "    # Read the CSV file into a Pandas DataFrame\n",
        "    data = pd.read_csv(csv_file_path)\n",
        "\n",
        "    # Create an in-memory SQLite database connection\n",
        "    conn = sqlite3.connect(':memory:')\n",
        "\n",
        "    # Write the DataFrame into the SQLite database\n",
        "    data.to_sql('credit_card_approved', conn, index=False)\n",
        "\n",
        "    # Execute the query and fetch results\n",
        "    result = conn.execute(query)\n",
        "    rows = result.fetchall()\n",
        "\n",
        "    # Count the number of rows returned by the query\n",
        "    row_count = len(rows)\n",
        "\n",
        "    # Close the connection\n",
        "    conn.close()\n",
        "\n",
        "    # Print the fetched rows\n",
        "    for row in rows:\n",
        "        print(row)\n",
        "\n",
        "    # Print the count of rows\n",
        "    print(f\"Count of Rows : {row_count}\")\n"
      ],
      "metadata": {
        "id": "tsCr2WfRjx9P"
      },
      "execution_count": null,
      "outputs": []
    },
    {
      "cell_type": "markdown",
      "source": [
        "The given code is a Python function that loads data from a CSV file in Google Drive into an in-memory SQLite database, executes a provided SQL query on the data, and then prints the query results along with the count of rows returned."
      ],
      "metadata": {
        "id": "ddoXP9oxFT26"
      }
    },
    {
      "cell_type": "markdown",
      "source": [
        "1. Group the customers based on their income type and find the average of their annual income.\n",
        "\n"
      ],
      "metadata": {
        "id": "IrGpZpDFVeF2"
      }
    },
    {
      "cell_type": "code",
      "source": [
        "query1 = '''\n",
        "SELECT Type_Income, AVG(Annual_income) AS Avg_Annual_income\n",
        "FROM credit_card_approved\n",
        "GROUP BY Type_Income\n",
        "ORDER BY Avg_Annual_income DESC\n",
        "'''\n",
        "execute_query_on_csv(query1)"
      ],
      "metadata": {
        "colab": {
          "base_uri": "https://localhost:8080/"
        },
        "id": "f41nEJ4KlsMq",
        "outputId": "b2abad93-d5d4-4298-c691-ad9e93cb2f5d"
      },
      "execution_count": null,
      "outputs": [
        {
          "output_type": "stream",
          "name": "stdout",
          "text": [
            "('Pensioner', 284142.85714285716)\n",
            "('Commercial associate', 233880.1699716714)\n",
            "('State servant', 210130.4347826087)\n",
            "('Working', 180154.5799739922)\n",
            "Count of Rows : 4\n"
          ]
        }
      ]
    },
    {
      "cell_type": "markdown",
      "source": [
        "This analysis reveals that customers categorized as \"Pensioners\" have the highest average annual income among all income types, with an average of approximately 284,142.86. On the other hand, \"Working\" individuals have the lowest average annual income, approximately 180,154.58."
      ],
      "metadata": {
        "id": "XS3i7tavKWpe"
      }
    },
    {
      "cell_type": "markdown",
      "source": [
        "2. Find the female owners of cars and property.\n",
        "\n"
      ],
      "metadata": {
        "id": "zX7W7DC0VeIc"
      }
    },
    {
      "cell_type": "code",
      "source": [
        "query2 = '''\n",
        "SELECT Ind_ID, GENDER, Car_Owner, Propert_Owner\n",
        "FROM credit_card_approved\n",
        "WHERE GENDER = 'F' AND Car_Owner = 'Y' AND Propert_Owner = 'Y'\n",
        "'''\n",
        "execute_query_on_csv(query2)"
      ],
      "metadata": {
        "colab": {
          "base_uri": "https://localhost:8080/"
        },
        "id": "f0fxruYHmMph",
        "outputId": "406ebd51-4bd9-4dac-f9dc-16bec3b636ac"
      },
      "execution_count": null,
      "outputs": [
        {
          "output_type": "stream",
          "name": "stdout",
          "text": [
            "(5018498, 'F', 'Y', 'Y')\n",
            "(5018503, 'F', 'Y', 'Y')\n",
            "(5024213, 'F', 'Y', 'Y')\n",
            "(5053254, 'F', 'Y', 'Y')\n",
            "(5065348, 'F', 'Y', 'Y')\n",
            "(5068389, 'F', 'Y', 'Y')\n",
            "(5069216, 'F', 'Y', 'Y')\n",
            "(5069218, 'F', 'Y', 'Y')\n",
            "(5125708, 'F', 'Y', 'Y')\n",
            "(5125716, 'F', 'Y', 'Y')\n",
            "(5143231, 'F', 'Y', 'Y')\n",
            "(5028917, 'F', 'Y', 'Y')\n",
            "(5095310, 'F', 'Y', 'Y')\n",
            "(5143235, 'F', 'Y', 'Y')\n",
            "(5054522, 'F', 'Y', 'Y')\n",
            "(5126034, 'F', 'Y', 'Y')\n",
            "(5139548, 'F', 'Y', 'Y')\n",
            "(5105614, 'F', 'Y', 'Y')\n",
            "(5009980, 'F', 'Y', 'Y')\n",
            "(5009074, 'F', 'Y', 'Y')\n",
            "(5023280, 'F', 'Y', 'Y')\n",
            "(5021267, 'F', 'Y', 'Y')\n",
            "(5090861, 'F', 'Y', 'Y')\n",
            "(5035688, 'F', 'Y', 'Y')\n",
            "(5078842, 'F', 'Y', 'Y')\n",
            "(5113291, 'F', 'Y', 'Y')\n",
            "(5139951, 'F', 'Y', 'Y')\n",
            "(5010397, 'F', 'Y', 'Y')\n",
            "(5047789, 'F', 'Y', 'Y')\n",
            "(5105657, 'F', 'Y', 'Y')\n",
            "(5088699, 'F', 'Y', 'Y')\n",
            "(5146472, 'F', 'Y', 'Y')\n",
            "(5135574, 'F', 'Y', 'Y')\n",
            "(5113132, 'F', 'Y', 'Y')\n",
            "(5062670, 'F', 'Y', 'Y')\n",
            "(5029544, 'F', 'Y', 'Y')\n",
            "(5111159, 'F', 'Y', 'Y')\n",
            "(5099957, 'F', 'Y', 'Y')\n",
            "(5149319, 'F', 'Y', 'Y')\n",
            "(5113288, 'F', 'Y', 'Y')\n",
            "(5053003, 'F', 'Y', 'Y')\n",
            "(5061321, 'F', 'Y', 'Y')\n",
            "(5139410, 'F', 'Y', 'Y')\n",
            "(5022804, 'F', 'Y', 'Y')\n",
            "(5088851, 'F', 'Y', 'Y')\n",
            "(5068390, 'F', 'Y', 'Y')\n",
            "(5010781, 'F', 'Y', 'Y')\n",
            "(5139553, 'F', 'Y', 'Y')\n",
            "(5062031, 'F', 'Y', 'Y')\n",
            "(5067020, 'F', 'Y', 'Y')\n",
            "(5024586, 'F', 'Y', 'Y')\n",
            "(5142579, 'F', 'Y', 'Y')\n",
            "(5090788, 'F', 'Y', 'Y')\n",
            "(5091735, 'F', 'Y', 'Y')\n",
            "(5125730, 'F', 'Y', 'Y')\n",
            "(5053678, 'F', 'Y', 'Y')\n",
            "(5050440, 'F', 'Y', 'Y')\n",
            "(5008865, 'F', 'Y', 'Y')\n",
            "(5010567, 'F', 'Y', 'Y')\n",
            "(5117331, 'F', 'Y', 'Y')\n",
            "(5035682, 'F', 'Y', 'Y')\n",
            "(5142496, 'F', 'Y', 'Y')\n",
            "(5091718, 'F', 'Y', 'Y')\n",
            "(5046086, 'F', 'Y', 'Y')\n",
            "(5041675, 'F', 'Y', 'Y')\n",
            "(5113163, 'F', 'Y', 'Y')\n",
            "(5090335, 'F', 'Y', 'Y')\n",
            "(5022800, 'F', 'Y', 'Y')\n",
            "(5088101, 'F', 'Y', 'Y')\n",
            "(5068337, 'F', 'Y', 'Y')\n",
            "(5028919, 'F', 'Y', 'Y')\n",
            "(5149433, 'F', 'Y', 'Y')\n",
            "(5149484, 'F', 'Y', 'Y')\n",
            "(5033797, 'F', 'Y', 'Y')\n",
            "(5022803, 'F', 'Y', 'Y')\n",
            "(5069257, 'F', 'Y', 'Y')\n",
            "(5067832, 'F', 'Y', 'Y')\n",
            "(5091737, 'F', 'Y', 'Y')\n",
            "(5115957, 'F', 'Y', 'Y')\n",
            "(5029610, 'F', 'Y', 'Y')\n",
            "(5036396, 'F', 'Y', 'Y')\n",
            "(5045850, 'F', 'Y', 'Y')\n",
            "(5091880, 'F', 'Y', 'Y')\n",
            "(5010225, 'F', 'Y', 'Y')\n",
            "(5068631, 'F', 'Y', 'Y')\n",
            "(5106118, 'F', 'Y', 'Y')\n",
            "(5067262, 'F', 'Y', 'Y')\n",
            "(5028569, 'F', 'Y', 'Y')\n",
            "(5067019, 'F', 'Y', 'Y')\n",
            "(5021730, 'F', 'Y', 'Y')\n",
            "(5021293, 'F', 'Y', 'Y')\n",
            "(5062294, 'F', 'Y', 'Y')\n",
            "(5090790, 'F', 'Y', 'Y')\n",
            "(5069292, 'F', 'Y', 'Y')\n",
            "(5148981, 'F', 'Y', 'Y')\n",
            "(5054496, 'F', 'Y', 'Y')\n",
            "(5091651, 'F', 'Y', 'Y')\n",
            "(5033728, 'F', 'Y', 'Y')\n",
            "(5149327, 'F', 'Y', 'Y')\n",
            "(5028446, 'F', 'Y', 'Y')\n",
            "(5036926, 'F', 'Y', 'Y')\n",
            "(5068339, 'F', 'Y', 'Y')\n",
            "(5028930, 'F', 'Y', 'Y')\n",
            "(5142239, 'F', 'Y', 'Y')\n",
            "(5053173, 'F', 'Y', 'Y')\n",
            "(5068340, 'F', 'Y', 'Y')\n",
            "(5066465, 'F', 'Y', 'Y')\n",
            "(5117254, 'F', 'Y', 'Y')\n",
            "(5010218, 'F', 'Y', 'Y')\n",
            "(5113711, 'F', 'Y', 'Y')\n",
            "(5069199, 'F', 'Y', 'Y')\n",
            "(5047787, 'F', 'Y', 'Y')\n",
            "(5028468, 'F', 'Y', 'Y')\n",
            "(5113171, 'F', 'Y', 'Y')\n",
            "(5046083, 'F', 'Y', 'Y')\n",
            "(5116046, 'F', 'Y', 'Y')\n",
            "(5140019, 'F', 'Y', 'Y')\n",
            "(5091564, 'F', 'Y', 'Y')\n",
            "(5090383, 'F', 'Y', 'Y')\n",
            "(5125710, 'F', 'Y', 'Y')\n",
            "(5068712, 'F', 'Y', 'Y')\n",
            "(5148748, 'F', 'Y', 'Y')\n",
            "(5024582, 'F', 'Y', 'Y')\n",
            "(5125425, 'F', 'Y', 'Y')\n",
            "(5069466, 'F', 'Y', 'Y')\n",
            "(5010226, 'F', 'Y', 'Y')\n",
            "(5021790, 'F', 'Y', 'Y')\n",
            "(5037202, 'F', 'Y', 'Y')\n",
            "(5149296, 'F', 'Y', 'Y')\n",
            "(5067242, 'F', 'Y', 'Y')\n",
            "(5116621, 'F', 'Y', 'Y')\n",
            "(5091925, 'F', 'Y', 'Y')\n",
            "(5091708, 'F', 'Y', 'Y')\n",
            "(5088853, 'F', 'Y', 'Y')\n",
            "(5113259, 'F', 'Y', 'Y')\n",
            "(5022156, 'F', 'Y', 'Y')\n",
            "(5091382, 'F', 'Y', 'Y')\n",
            "(5023816, 'F', 'Y', 'Y')\n",
            "(5094926, 'F', 'Y', 'Y')\n",
            "(5068367, 'F', 'Y', 'Y')\n",
            "(5125172, 'F', 'Y', 'Y')\n",
            "(5118580, 'F', 'Y', 'Y')\n",
            "(5048458, 'F', 'Y', 'Y')\n",
            "(5033520, 'F', 'Y', 'Y')\n",
            "(5024049, 'F', 'Y', 'Y')\n",
            "(5053790, 'F', 'Y', 'Y')\n",
            "Count of Rows : 146\n"
          ]
        }
      ]
    },
    {
      "cell_type": "markdown",
      "source": [
        "This SQL query successfully identified and retrieved 146 records of female customers who own both cars and property."
      ],
      "metadata": {
        "id": "rCH701cbKs_G"
      }
    },
    {
      "cell_type": "markdown",
      "source": [
        "3. Find the male customers who are staying with their families.\n",
        "\n"
      ],
      "metadata": {
        "id": "W_UTfJOuVeLO"
      }
    },
    {
      "cell_type": "code",
      "source": [
        "query3 = '''\n",
        "select Ind_ID,GENDER,Family_Members from credit_card_approved\n",
        "where GENDER = 'M' and Family_Members > 1\n",
        "'''\n",
        "execute_query_on_csv(query3)"
      ],
      "metadata": {
        "colab": {
          "base_uri": "https://localhost:8080/"
        },
        "id": "ptmyLvkIofzh",
        "outputId": "65d20f4a-e14c-4a17-a0b6-9b472ca67c19"
      },
      "execution_count": null,
      "outputs": [
        {
          "output_type": "stream",
          "name": "stdout",
          "text": [
            "(5010864, 'M', 3)\n",
            "(5010868, 'M', 3)\n",
            "(5021303, 'M', 3)\n",
            "(5021310, 'M', 2)\n",
            "(5021314, 'M', 2)\n",
            "(5021998, 'M', 2)\n",
            "(5022617, 'M', 2)\n",
            "(5023781, 'M', 2)\n",
            "(5028580, 'M', 2)\n",
            "(5033916, 'M', 2)\n",
            "(5036469, 'M', 2)\n",
            "(5036590, 'M', 2)\n",
            "(5036795, 'M', 2)\n",
            "(5048300, 'M', 3)\n",
            "(5048301, 'M', 3)\n",
            "(5050603, 'M', 2)\n",
            "(5050606, 'M', 2)\n",
            "(5051160, 'M', 3)\n",
            "(5051161, 'M', 3)\n",
            "(5052877, 'M', 2)\n",
            "(5052879, 'M', 2)\n",
            "(5052882, 'M', 2)\n",
            "(5054063, 'M', 3)\n",
            "(5062136, 'M', 2)\n",
            "(5069307, 'M', 2)\n",
            "(5079166, 'M', 2)\n",
            "(5079167, 'M', 2)\n",
            "(5079168, 'M', 2)\n",
            "(5085886, 'M', 2)\n",
            "(5089959, 'M', 3)\n",
            "(5090214, 'M', 2)\n",
            "(5090216, 'M', 2)\n",
            "(5092087, 'M', 4)\n",
            "(5092479, 'M', 3)\n",
            "(5114249, 'M', 3)\n",
            "(5114253, 'M', 3)\n",
            "(5116906, 'M', 2)\n",
            "(5125763, 'M', 3)\n",
            "(5135344, 'M', 2)\n",
            "(5135345, 'M', 2)\n",
            "(5135346, 'M', 2)\n",
            "(5135636, 'M', 2)\n",
            "(5142184, 'M', 4)\n",
            "(5142185, 'M', 4)\n",
            "(5142361, 'M', 3)\n",
            "(5142362, 'M', 3)\n",
            "(5143342, 'M', 3)\n",
            "(5148932, 'M', 2)\n",
            "(5148934, 'M', 2)\n",
            "(5149188, 'M', 3)\n",
            "(5149190, 'M', 3)\n",
            "(5149828, 'M', 2)\n",
            "(5069057, 'M', 2)\n",
            "(5046340, 'M', 3)\n",
            "(5022326, 'M', 2)\n",
            "(5056077, 'M', 2)\n",
            "(5143016, 'M', 2)\n",
            "(5125399, 'M', 2)\n",
            "(5125158, 'M', 3)\n",
            "(5062688, 'M', 2)\n",
            "(5115984, 'M', 4)\n",
            "(5091963, 'M', 2)\n",
            "(5067149, 'M', 4)\n",
            "(5029348, 'M', 2)\n",
            "(5052963, 'M', 2)\n",
            "(5010707, 'M', 2)\n",
            "(5090470, 'M', 3)\n",
            "(5046415, 'M', 2)\n",
            "(5117314, 'M', 3)\n",
            "(5044935, 'M', 4)\n",
            "(5065335, 'M', 2)\n",
            "(5146463, 'M', 2)\n",
            "(5143019, 'M', 2)\n",
            "(5125317, 'M', 2)\n",
            "(5096211, 'M', 2)\n",
            "(5045917, 'M', 2)\n",
            "(5117754, 'M', 2)\n",
            "(5125166, 'M', 3)\n",
            "(5125524, 'M', 4)\n",
            "(5023261, 'M', 2)\n",
            "(5118397, 'M', 2)\n",
            "(5022041, 'M', 2)\n",
            "(5024412, 'M', 2)\n",
            "(5028996, 'M', 2)\n",
            "(5142812, 'M', 2)\n",
            "(5068491, 'M', 3)\n",
            "(5056149, 'M', 2)\n",
            "(5137033, 'M', 3)\n",
            "(5100220, 'M', 4)\n",
            "(5010526, 'M', 3)\n",
            "(5028697, 'M', 3)\n",
            "(5149150, 'M', 2)\n",
            "(5022833, 'M', 2)\n",
            "(5096466, 'M', 3)\n",
            "(5068156, 'M', 2)\n",
            "(5117756, 'M', 2)\n",
            "(5023059, 'M', 3)\n",
            "(5125325, 'M', 2)\n",
            "(5029108, 'M', 3)\n",
            "(5029352, 'M', 2)\n",
            "(5105067, 'M', 2)\n",
            "(5143573, 'M', 2)\n",
            "(5045800, 'M', 3)\n",
            "(5091753, 'M', 4)\n",
            "(5095170, 'M', 2)\n",
            "(5068671, 'M', 2)\n",
            "(5087994, 'M', 3)\n",
            "(5058405, 'M', 2)\n",
            "(5041869, 'M', 2)\n",
            "(5115894, 'M', 2)\n",
            "(5062749, 'M', 3)\n",
            "(5137292, 'M', 3)\n",
            "(5038751, 'M', 4)\n",
            "(5099900, 'M', 2)\n",
            "(5116676, 'M', 5)\n",
            "(5048486, 'M', 2)\n",
            "(5091280, 'M', 3)\n",
            "(5023186, 'M', 2)\n",
            "(5054307, 'M', 3)\n",
            "(5050453, 'M', 3)\n",
            "(5091374, 'M', 2)\n",
            "(5068548, 'M', 2)\n",
            "(5053472, 'M', 2)\n",
            "(5010203, 'M', 2)\n",
            "(5053143, 'M', 3)\n",
            "(5054099, 'M', 4)\n",
            "(5118115, 'M', 3)\n",
            "(5113976, 'M', 2)\n",
            "(5078924, 'M', 2)\n",
            "(5146467, 'M', 2)\n",
            "(5052755, 'M', 2)\n",
            "(5113020, 'M', 2)\n",
            "(5058267, 'M', 3)\n",
            "(5037247, 'M', 4)\n",
            "(5100461, 'M', 3)\n",
            "(5096753, 'M', 2)\n",
            "(5091778, 'M', 4)\n",
            "(5038569, 'M', 2)\n",
            "(5069169, 'M', 2)\n",
            "(5097134, 'M', 2)\n",
            "(5033884, 'M', 2)\n",
            "(5097024, 'M', 2)\n",
            "(5091144, 'M', 2)\n",
            "(5088503, 'M', 2)\n",
            "(5126142, 'M', 4)\n",
            "(5061076, 'M', 2)\n",
            "(5125471, 'M', 3)\n",
            "(5025207, 'M', 3)\n",
            "(5065601, 'M', 2)\n",
            "(5050549, 'M', 4)\n",
            "(5061207, 'M', 15)\n",
            "(5028684, 'M', 2)\n",
            "(5028737, 'M', 2)\n",
            "(5054453, 'M', 2)\n",
            "(5050756, 'M', 2)\n",
            "(5047853, 'M', 3)\n",
            "(5024352, 'M', 2)\n",
            "(5092265, 'M', 2)\n",
            "(5114354, 'M', 2)\n",
            "(5026178, 'M', 2)\n",
            "(5033439, 'M', 4)\n",
            "(5053872, 'M', 3)\n",
            "(5125928, 'M', 3)\n",
            "(5029256, 'M', 4)\n",
            "(5136029, 'M', 2)\n",
            "(5100394, 'M', 3)\n",
            "(5095631, 'M', 3)\n",
            "(5023724, 'M', 3)\n",
            "(5116369, 'M', 2)\n",
            "(5061611, 'M', 3)\n",
            "(5105819, 'M', 4)\n",
            "(5074739, 'M', 3)\n",
            "(5135489, 'M', 4)\n",
            "(5089770, 'M', 4)\n",
            "(5042296, 'M', 3)\n",
            "(5010185, 'M', 2)\n",
            "(5090509, 'M', 2)\n",
            "(5113006, 'M', 3)\n",
            "(5026368, 'M', 3)\n",
            "(5118225, 'M', 2)\n",
            "(5088805, 'M', 2)\n",
            "(5067281, 'M', 3)\n",
            "(5079016, 'M', 4)\n",
            "(5139761, 'M', 2)\n",
            "(5029251, 'M', 2)\n",
            "(5116613, 'M', 2)\n",
            "(5113302, 'M', 3)\n",
            "(5022118, 'M', 2)\n",
            "(5022954, 'M', 2)\n",
            "(5097170, 'M', 2)\n",
            "(5062594, 'M', 3)\n",
            "(5028726, 'M', 2)\n",
            "(5033831, 'M', 2)\n",
            "(5009845, 'M', 2)\n",
            "(5117716, 'M', 2)\n",
            "(5139823, 'M', 2)\n",
            "(5033729, 'M', 2)\n",
            "(5037212, 'M', 2)\n",
            "(5033881, 'M', 3)\n",
            "(5029194, 'M', 2)\n",
            "(5053642, 'M', 2)\n",
            "(5089934, 'M', 2)\n",
            "(5116883, 'M', 2)\n",
            "(5114342, 'M', 2)\n",
            "(5024163, 'M', 5)\n",
            "(5115633, 'M', 2)\n",
            "(5126311, 'M', 2)\n",
            "(5054697, 'M', 2)\n",
            "(5116343, 'M', 3)\n",
            "(5087829, 'M', 2)\n",
            "(5051050, 'M', 2)\n",
            "(5028547, 'M', 2)\n",
            "(5067090, 'M', 2)\n",
            "(5010865, 'M', 3)\n",
            "(5115814, 'M', 5)\n",
            "(5113472, 'M', 2)\n",
            "(5126751, 'M', 4)\n",
            "(5009908, 'M', 2)\n",
            "(5035627, 'M', 2)\n",
            "(5114061, 'M', 3)\n",
            "(5037125, 'M', 2)\n",
            "(5010078, 'M', 4)\n",
            "(5009146, 'M', 2)\n",
            "(5079017, 'M', 4)\n",
            "(5068963, 'M', 2)\n",
            "(5022047, 'M', 2)\n",
            "(5048121, 'M', 4)\n",
            "(5033500, 'M', 2)\n",
            "(5137229, 'M', 2)\n",
            "(5113510, 'M', 2)\n",
            "(5092221, 'M', 2)\n",
            "(5067003, 'M', 2)\n",
            "(5104953, 'M', 2)\n",
            "(5091792, 'M', 3)\n",
            "(5143353, 'M', 2)\n",
            "(5021879, 'M', 4)\n",
            "(5023389, 'M', 4)\n",
            "(5143457, 'M', 2)\n",
            "(5044939, 'M', 4)\n",
            "(5022730, 'M', 5)\n",
            "(5078841, 'M', 2)\n",
            "(5143453, 'M', 2)\n",
            "(5090995, 'M', 2)\n",
            "(5149106, 'M', 4)\n",
            "(5052620, 'M', 3)\n",
            "(5087819, 'M', 4)\n",
            "(5139757, 'M', 2)\n",
            "(5062286, 'M', 2)\n",
            "(5100106, 'M', 2)\n",
            "(5094896, 'M', 3)\n",
            "(5054414, 'M', 2)\n",
            "(5142482, 'M', 4)\n",
            "(5105159, 'M', 4)\n",
            "(5023949, 'M', 3)\n",
            "(5143402, 'M', 2)\n",
            "(5136909, 'M', 3)\n",
            "(5095939, 'M', 2)\n",
            "(5113343, 'M', 4)\n",
            "(5142815, 'M', 2)\n",
            "(5054460, 'M', 3)\n",
            "(5105436, 'M', 4)\n",
            "(5026177, 'M', 2)\n",
            "(5142584, 'M', 2)\n",
            "(5010683, 'M', 2)\n",
            "(5126809, 'M', 3)\n",
            "(5090082, 'M', 2)\n",
            "(5089474, 'M', 2)\n",
            "(5089596, 'M', 2)\n",
            "(5045614, 'M', 3)\n",
            "(5047870, 'M', 3)\n",
            "(5025161, 'M', 2)\n",
            "(5021693, 'M', 4)\n",
            "(5111172, 'M', 2)\n",
            "(5069051, 'M', 2)\n",
            "(5136020, 'M', 3)\n",
            "(5033418, 'M', 2)\n",
            "(5126517, 'M', 2)\n",
            "(5142972, 'M', 3)\n",
            "(5117753, 'M', 2)\n",
            "(5067893, 'M', 2)\n",
            "(5115671, 'M', 3)\n",
            "(5045513, 'M', 3)\n",
            "(5116478, 'M', 4)\n",
            "(5146429, 'M', 2)\n",
            "(5054407, 'M', 2)\n",
            "(5028616, 'M', 3)\n",
            "(5116606, 'M', 2)\n",
            "(5143560, 'M', 4)\n",
            "(5126518, 'M', 2)\n",
            "(5116991, 'M', 2)\n",
            "(5079057, 'M', 2)\n",
            "(5041881, 'M', 2)\n",
            "(5053117, 'M', 3)\n",
            "(5115921, 'M', 2)\n",
            "(5150221, 'M', 2)\n",
            "(5126294, 'M', 2)\n",
            "(5095514, 'M', 2)\n",
            "(5125542, 'M', 2)\n",
            "(5095033, 'M', 2)\n",
            "(5142163, 'M', 3)\n",
            "(5116005, 'M', 3)\n",
            "(5045380, 'M', 2)\n",
            "(5010238, 'M', 2)\n",
            "(5142781, 'M', 3)\n",
            "(5117698, 'M', 2)\n",
            "(5033659, 'M', 2)\n",
            "(5024592, 'M', 2)\n",
            "(5142649, 'M', 2)\n",
            "(5022612, 'M', 3)\n",
            "(5113556, 'M', 2)\n",
            "(5142595, 'M', 2)\n",
            "(5052883, 'M', 2)\n",
            "(5068019, 'M', 2)\n",
            "(5105185, 'M', 2)\n",
            "(5100464, 'M', 3)\n",
            "(5091766, 'M', 2)\n",
            "(5067961, 'M', 2)\n",
            "(5142118, 'M', 3)\n",
            "(5068196, 'M', 2)\n",
            "(5085780, 'M', 2)\n",
            "(5045742, 'M', 2)\n",
            "(5074735, 'M', 4)\n",
            "(5054097, 'M', 4)\n",
            "(5117551, 'M', 3)\n",
            "(5112870, 'M', 3)\n",
            "(5046191, 'M', 4)\n",
            "(5065571, 'M', 2)\n",
            "(5088501, 'M', 2)\n",
            "(5061896, 'M', 3)\n",
            "(5044940, 'M', 4)\n",
            "(5033496, 'M', 3)\n",
            "(5036958, 'M', 3)\n",
            "(5117022, 'M', 4)\n",
            "(5054064, 'M', 3)\n",
            "(5067203, 'M', 3)\n",
            "(5113861, 'M', 2)\n",
            "(5023616, 'M', 2)\n",
            "(5051156, 'M', 2)\n",
            "(5143046, 'M', 4)\n",
            "(5114060, 'M', 3)\n",
            "(5028302, 'M', 2)\n",
            "(5146558, 'M', 4)\n",
            "(5089070, 'M', 5)\n",
            "(5090039, 'M', 3)\n",
            "(5009567, 'M', 2)\n",
            "(5148915, 'M', 4)\n",
            "(5053646, 'M', 2)\n",
            "(5118472, 'M', 2)\n",
            "(5091771, 'M', 2)\n",
            "(5096729, 'M', 2)\n",
            "(5142953, 'M', 2)\n",
            "(5091983, 'M', 2)\n",
            "(5062106, 'M', 2)\n",
            "(5022458, 'M', 3)\n",
            "(5112737, 'M', 2)\n",
            "(5139846, 'M', 2)\n",
            "(5118118, 'M', 3)\n",
            "(5085768, 'M', 3)\n",
            "(5145920, 'M', 3)\n",
            "(5010498, 'M', 3)\n",
            "(5116801, 'M', 3)\n",
            "(5045537, 'M', 4)\n",
            "(5088687, 'M', 3)\n",
            "(5117497, 'M', 2)\n",
            "(5117233, 'M', 2)\n",
            "(5142733, 'M', 3)\n",
            "(5021214, 'M', 3)\n",
            "(5142529, 'M', 2)\n",
            "(5148669, 'M', 3)\n",
            "(5067006, 'M', 3)\n",
            "(5117622, 'M', 4)\n",
            "(5113180, 'M', 2)\n",
            "(5009269, 'M', 2)\n",
            "(5036474, 'M', 4)\n",
            "(5112736, 'M', 2)\n",
            "(5050619, 'M', 2)\n",
            "(5068807, 'M', 3)\n",
            "(5114227, 'M', 4)\n",
            "(5091369, 'M', 2)\n",
            "(5112738, 'M', 2)\n",
            "(5069007, 'M', 2)\n",
            "(5142691, 'M', 4)\n",
            "(5067696, 'M', 2)\n",
            "(5033714, 'M', 3)\n",
            "(5066915, 'M', 2)\n",
            "(5143025, 'M', 2)\n",
            "(5061161, 'M', 5)\n",
            "(5114166, 'M', 3)\n",
            "(5068233, 'M', 3)\n",
            "(5052622, 'M', 3)\n",
            "(5095423, 'M', 2)\n",
            "(5058408, 'M', 2)\n",
            "(5137365, 'M', 2)\n",
            "(5023491, 'M', 2)\n",
            "(5125510, 'M', 3)\n",
            "(5010202, 'M', 2)\n",
            "(5041739, 'M', 3)\n",
            "(5048217, 'M', 3)\n",
            "(5054775, 'M', 2)\n",
            "(5125462, 'M', 3)\n",
            "(5051120, 'M', 2)\n",
            "(5114348, 'M', 2)\n",
            "(5067506, 'M', 2)\n",
            "(5009000, 'M', 2)\n",
            "(5116594, 'M', 2)\n",
            "(5068310, 'M', 2)\n",
            "(5028858, 'M', 3)\n",
            "(5105069, 'M', 2)\n",
            "(5079127, 'M', 2)\n",
            "(5088689, 'M', 3)\n",
            "(5065477, 'M', 3)\n",
            "(5089954, 'M', 3)\n",
            "(5125261, 'M', 2)\n",
            "(5100133, 'M', 4)\n",
            "(5096856, 'M', 2)\n",
            "(5090942, 'M', 2)\n",
            "(5118268, 'M', 3)\n",
            "(5115992, 'M', 4)\n",
            "(5118219, 'M', 2)\n",
            "Count of Rows : 419\n"
          ]
        }
      ]
    },
    {
      "cell_type": "markdown",
      "source": [
        "This SQL query successfully identified and retrieved 419 records of male customers who are staying with their families, with the number of family members mentioned."
      ],
      "metadata": {
        "id": "fObM055GK7iL"
      }
    },
    {
      "cell_type": "markdown",
      "source": [
        "4. Please list the top five people having the highest income.\n",
        "\n"
      ],
      "metadata": {
        "id": "_bkcb6IoVeOS"
      }
    },
    {
      "cell_type": "code",
      "source": [
        "query4 = '''\n",
        "select Ind_ID,GENDER,Annual_income,EDUCATION from credit_card_approved\n",
        "where Annual_income >=(\n",
        "select Annual_income from credit_card_approved\n",
        "order by Annual_income desc\n",
        "limit 1 offset 5)\n",
        "'''\n",
        "execute_query_on_csv(query4)"
      ],
      "metadata": {
        "colab": {
          "base_uri": "https://localhost:8080/"
        },
        "id": "DfpnSTI-oqh-",
        "outputId": "ed167d97-cff9-4502-b691-af3a2ba82b46"
      },
      "execution_count": null,
      "outputs": [
        {
          "output_type": "stream",
          "name": "stdout",
          "text": [
            "(5143231, 'F', 1575000, 'Higher education')\n",
            "(5143235, 'F', 1575000, 'Higher education')\n",
            "(5090470, 'M', 900000, 'Secondary / secondary special')\n",
            "(5079016, 'M', 900000, 'Higher education')\n",
            "(5079017, 'M', 900000, 'Higher education')\n",
            "(5116005, 'M', 900000, 'Higher education')\n",
            "Count of Rows : 6\n"
          ]
        }
      ]
    },
    {
      "cell_type": "markdown",
      "source": [
        "This SQL query successfully identified individuals having the highest annual incomes and their education in the dataset."
      ],
      "metadata": {
        "id": "Rfw-CiyuLhjb"
      }
    },
    {
      "cell_type": "markdown",
      "source": [
        "5. How many married people are having bad credit?\n",
        "\n"
      ],
      "metadata": {
        "id": "iObmHoESVeQ4"
      }
    },
    {
      "cell_type": "code",
      "source": [
        "query5 = '''\n",
        "select count(*) as Count_of_married_people_having_bad_credit from credit_card_approved\n",
        "where Marital_status in ('Married','Civil marriage') and label = 0\n",
        "'''\n",
        "execute_query_on_csv(query5)"
      ],
      "metadata": {
        "colab": {
          "base_uri": "https://localhost:8080/"
        },
        "id": "cexb3npnowqf",
        "outputId": "6359991c-1e9e-43da-df82-03d673f67677"
      },
      "execution_count": null,
      "outputs": [
        {
          "output_type": "stream",
          "name": "stdout",
          "text": [
            "(870,)\n",
            "Count of Rows : 1\n"
          ]
        }
      ]
    },
    {
      "cell_type": "markdown",
      "source": [
        "There are 870 married people with bad credit in the dataset."
      ],
      "metadata": {
        "id": "BJycX3kOL8ly"
      }
    },
    {
      "cell_type": "markdown",
      "source": [
        "6. What is the highest education level and what is the total count?\n"
      ],
      "metadata": {
        "id": "Vo4s41OxVeTx"
      }
    },
    {
      "cell_type": "code",
      "source": [
        "query6 = '''\n",
        "SELECT EDUCATION, COUNT(*) AS Total_Counts\n",
        "FROM credit_card_approved\n",
        "GROUP BY EDUCATION\n",
        "HAVING EDUCATION LIKE '%degree'\n",
        "'''\n",
        "execute_query_on_csv(query6)"
      ],
      "metadata": {
        "colab": {
          "base_uri": "https://localhost:8080/"
        },
        "id": "1sGayrOwo5b_",
        "outputId": "18c86987-0335-4578-a0ae-95737b48fe47"
      },
      "execution_count": null,
      "outputs": [
        {
          "output_type": "stream",
          "name": "stdout",
          "text": [
            "('Academic degree', 2)\n",
            "Count of Rows : 1\n"
          ]
        }
      ]
    },
    {
      "cell_type": "markdown",
      "source": [
        "The highest education level in the dataset is \"Academic degree\", and there are 2 individuals with this level of education."
      ],
      "metadata": {
        "id": "SkFjsnE9MHjD"
      }
    },
    {
      "cell_type": "markdown",
      "source": [
        "7. Between married males and females, who is having more bad credit?"
      ],
      "metadata": {
        "id": "VO9IkorKVeYF"
      }
    },
    {
      "cell_type": "code",
      "source": [
        "query7 = '''\n",
        "select GENDER,count(*) Bad_Credit from credit_card_approved\n",
        "group by GENDER,label\n",
        "having label = 0\n",
        "order by Bad_Credit desc\n",
        "limit 1\n",
        "'''\n",
        "execute_query_on_csv(query7)"
      ],
      "metadata": {
        "colab": {
          "base_uri": "https://localhost:8080/"
        },
        "id": "QOgOY2wIo-6w",
        "outputId": "576635ac-d576-4933-e11e-04f51b8111cc"
      },
      "execution_count": null,
      "outputs": [
        {
          "output_type": "stream",
          "name": "stdout",
          "text": [
            "('F', 676)\n",
            "Count of Rows : 1\n"
          ]
        }
      ]
    },
    {
      "cell_type": "markdown",
      "source": [
        "Among married individuals, females have more bad credit than males. Females have 676 cases of bad credit, whereas males have fewer cases."
      ],
      "metadata": {
        "id": "FZwGcCPJMW1k"
      }
    }
  ]
}